{
  "cells": [
    {
      "cell_type": "markdown",
      "metadata": {
        "id": "bnzPmx8P52UF"
      },
      "source": [
        "# Amostragem\n",
        "\n",
        "**Amostragem é uma contagem ou medição de parte da população e é usada em estudos estatísticos**\n",
        "\n",
        "Observação: Para coletar dados não tendenciosos, você\n",
        "deve ter certeza de que a amostra represente a população"
      ]
    },
    {
      "cell_type": "markdown",
      "metadata": {
        "id": "DTxzWPl_Vel4"
      },
      "source": [
        "## Carregamento da base de dados"
      ]
    },
    {
      "cell_type": "code",
      "execution_count": null,
      "metadata": {
        "id": "rLSrGHxI52uB"
      },
      "outputs": [],
      "source": [
        "import pandas as pd\n",
        "import random\n",
        "import numpy as np"
      ]
    },
    {
      "cell_type": "code",
      "execution_count": null,
      "metadata": {
        "id": "MQX_JYAH6T58"
      },
      "outputs": [],
      "source": [
        "dataset = pd.read_csv('credit_data.csv')"
      ]
    },
    {
      "cell_type": "code",
      "execution_count": null,
      "metadata": {
        "id": "GKW5CXUU6amv"
      },
      "outputs": [],
      "source": [
        "dataset.shape"
      ]
    },
    {
      "cell_type": "code",
      "execution_count": null,
      "metadata": {
        "id": "d9HaTD8Y6gGK"
      },
      "outputs": [],
      "source": [
        "dataset.head()"
      ]
    },
    {
      "cell_type": "code",
      "execution_count": null,
      "metadata": {
        "id": "3X7iatIf61Xf"
      },
      "outputs": [],
      "source": [
        "dataset.tail()"
      ]
    },
    {
      "cell_type": "markdown",
      "metadata": {
        "id": "RrDiirdZ9_m5"
      },
      "source": [
        "## Amostragem aleatória simples"
      ]
    },
    {
      "cell_type": "code",
      "execution_count": null,
      "metadata": {
        "id": "lk7eAB_R8IiT"
      },
      "outputs": [],
      "source": [
        "def amostragem_aleatoria_simples(dataset, amostras):\n",
        "  return dataset.sample(n = amostras, random_state=1)"
      ]
    },
    {
      "cell_type": "code",
      "execution_count": null,
      "metadata": {
        "colab": {
          "base_uri": "https://localhost:8080/"
        },
        "id": "08X9Bov_8TBP",
        "outputId": "40b99b23-9162-4ea0-9c52-0c3af8b75bb9"
      },
      "outputs": [],
      "source": [
        "df_amostra_aleatoria_simples = amostragem_aleatoria_simples(dataset, 1000)\n",
        "df_amostra_aleatoria_simples.shape"
      ]
    },
    {
      "cell_type": "markdown",
      "metadata": {
        "id": "LuNZ29C3A8nc"
      },
      "source": [
        "## Amostragem sistemática"
      ]
    },
    {
      "cell_type": "code",
      "execution_count": null,
      "metadata": {
        "id": "pJe3yAXhAGti"
      },
      "outputs": [],
      "source": [
        "def amostragem_sistematica(dataset, amostras):\n",
        "\tintervalo = len(dataset) // amostras\n",
        "\trandom.seed(1)\n",
        "\tinicio = random.randint(0, intervalo)\n",
        "\tindices = np.arange(inicio, len(dataset), step = intervalo)\n",
        "\tamostra_sistematica = dataset.iloc[indices]\n",
        "\treturn amostra_sistematica"
      ]
    },
    {
      "cell_type": "code",
      "execution_count": null,
      "metadata": {
        "colab": {
          "base_uri": "https://localhost:8080/"
        },
        "id": "F4m8_IGIAtVu",
        "outputId": "032fb75b-fe51-4bfe-87de-96fbaafd1831"
      },
      "outputs": [],
      "source": [
        "df_amostra_sistematica = amostragem_sistematica(dataset, 1000)\n",
        "df_amostra_sistematica.shape"
      ]
    },
    {
      "cell_type": "markdown",
      "metadata": {
        "id": "gc3aea8QHqz9"
      },
      "source": [
        "## Amostragem por grupos"
      ]
    },
    {
      "cell_type": "code",
      "execution_count": null,
      "metadata": {
        "id": "d8PhN_47Eyp3"
      },
      "outputs": [],
      "source": [
        "def amostragem_agrupamento(dataset, numero_grupos):\n",
        "\tintervalo = len(dataset) / numero_grupos\n",
        "\n",
        "\tgrupos = []\n",
        "\tid_grupo = 0\n",
        "\tcontagem = 0\n",
        "\tfor _ in dataset.iterrows():\n",
        "\t\tgrupos.append(id_grupo)\n",
        "\t\tcontagem += 1\n",
        "\t\tif contagem > intervalo:\n",
        "\t\t\tcontagem = 0\n",
        "\t\t\tid_grupo += 1\n",
        "\n",
        "\tdataset['grupo'] = grupos\n",
        "\trandom.seed(1)\n",
        "\tgrupo_selecionado = random.randint(0, numero_grupos)\n",
        "\treturn dataset[dataset['grupo'] == grupo_selecionado]"
      ]
    },
    {
      "cell_type": "code",
      "execution_count": null,
      "metadata": {
        "colab": {
          "base_uri": "https://localhost:8080/"
        },
        "id": "A2Qk3HP5F-W-",
        "outputId": "2f619dc2-03fa-45e2-fbf2-deb982d2cbcc"
      },
      "outputs": [],
      "source": [
        "len(dataset) / 2"
      ]
    },
    {
      "cell_type": "code",
      "execution_count": null,
      "metadata": {
        "colab": {
          "base_uri": "https://localhost:8080/"
        },
        "id": "tELlhSEZFP9u",
        "outputId": "bf88b29c-0c78-434f-b717-c22f246dc920"
      },
      "outputs": [],
      "source": [
        "df_amostra_agrupamento = amostragem_agrupamento(dataset, 2)\n",
        "df_amostra_agrupamento.shape, df_amostra_agrupamento['grupo'].value_counts()"
      ]
    },
    {
      "cell_type": "markdown",
      "metadata": {
        "id": "PNtASp3qI4mL"
      },
      "source": [
        "## Amostra estratificada"
      ]
    },
    {
      "cell_type": "code",
      "execution_count": null,
      "metadata": {
        "id": "FbVBHWkJIZqq"
      },
      "outputs": [],
      "source": [
        "from sklearn.model_selection import StratifiedShuffleSplit"
      ]
    },
    {
      "cell_type": "code",
      "execution_count": null,
      "metadata": {
        "colab": {
          "base_uri": "https://localhost:8080/"
        },
        "id": "SOTB_dzMIxFO",
        "outputId": "84eb9db3-6d0b-49c6-b11e-9e69e409af44"
      },
      "outputs": [],
      "source": [
        "dataset['c#default'].value_counts()"
      ]
    },
    {
      "cell_type": "code",
      "execution_count": null,
      "metadata": {
        "id": "W5jDYrBt7itv"
      },
      "outputs": [],
      "source": [
        "def amostragem_estratificada(dataset, percentual, campo):\n",
        "  split = StratifiedShuffleSplit(test_size=percentual, random_state=1)\n",
        "  for _, y in split.split(dataset, dataset[campo]):\n",
        "    df_y = dataset.iloc[y]\n",
        "  return df_y"
      ]
    },
    {
      "cell_type": "code",
      "execution_count": null,
      "metadata": {
        "colab": {
          "base_uri": "https://localhost:8080/"
        },
        "id": "YrWqVax077Ca",
        "outputId": "8af622e0-2ba0-476c-ddbf-067dc008b4cb"
      },
      "outputs": [],
      "source": [
        "df_amostra_estratificada = amostragem_estratificada(dataset, 0.5, 'c#default')\n",
        "df_amostra_estratificada.shape"
      ]
    },
    {
      "cell_type": "markdown",
      "metadata": {
        "id": "5CKJPA5L7S9q"
      },
      "source": [
        "## Comparativo dos resultados"
      ]
    },
    {
      "cell_type": "code",
      "execution_count": null,
      "metadata": {
        "colab": {
          "base_uri": "https://localhost:8080/"
        },
        "id": "NTIZlSOQ7Usc",
        "outputId": "4eb5a2b1-1261-4d91-f938-4470dc34250b"
      },
      "outputs": [],
      "source": [
        "dataset['age'].mean(), dataset['income'].mean(), dataset['loan'].mean()"
      ]
    },
    {
      "cell_type": "code",
      "execution_count": null,
      "metadata": {
        "colab": {
          "base_uri": "https://localhost:8080/"
        },
        "id": "ygori0T_8VD1",
        "outputId": "7f939ab4-67f4-402a-8cb7-2d7302d5bb7f"
      },
      "outputs": [],
      "source": [
        "df_amostra_aleatoria_simples['age'].mean(), df_amostra_aleatoria_simples['income'].mean(), df_amostra_aleatoria_simples['loan'].mean()"
      ]
    },
    {
      "cell_type": "code",
      "execution_count": null,
      "metadata": {
        "colab": {
          "base_uri": "https://localhost:8080/"
        },
        "id": "3UF_48Rb8cRZ",
        "outputId": "fd72255d-08f1-4b75-97a1-76c647766ebf"
      },
      "outputs": [],
      "source": [
        "df_amostra_sistematica['age'].mean(), df_amostra_sistematica['income'].mean(), df_amostra_sistematica['loan'].mean()"
      ]
    },
    {
      "cell_type": "code",
      "execution_count": null,
      "metadata": {
        "colab": {
          "base_uri": "https://localhost:8080/"
        },
        "id": "qA6-4Ltt8i6G",
        "outputId": "fedf6c63-b49e-4823-ad62-0f5062276040"
      },
      "outputs": [],
      "source": [
        "df_amostra_agrupamento['age'].mean(), df_amostra_agrupamento['income'].mean(), df_amostra_agrupamento['loan'].mean()"
      ]
    },
    {
      "cell_type": "code",
      "execution_count": null,
      "metadata": {
        "colab": {
          "base_uri": "https://localhost:8080/"
        },
        "id": "-2p78djJ8vM6",
        "outputId": "1c644a28-f541-4c62-b8fe-119bc15f566d"
      },
      "outputs": [],
      "source": [
        "df_amostra_estratificada['age'].mean(), df_amostra_estratificada['income'].mean(), df_amostra_estratificada['loan'].mean()"
      ]
    },
    {
      "cell_type": "code",
      "execution_count": null,
      "metadata": {},
      "outputs": [],
      "source": [
        "df_media = dataset['age'].mean()\n",
        "\n",
        "modulo_aleatoria_simples = abs(df_media - df_amostra_aleatoria_simples['age'].mean())\n",
        "modulo_sistematica = abs(df_media - df_amostra_sistematica['age'].mean())\n",
        "modulo_agrupamento = abs(df_media - df_amostra_agrupamento['age'].mean())\n",
        "modulo_estratificada = abs(df_media - df_amostra_estratificada['age'].mean())\n",
        "\n",
        "print('--Age--')\n",
        "print('')\n",
        "print(f'Aleatória simples: {modulo_aleatoria_simples}')\n",
        "print(f'Sistemática: {modulo_sistematica}')\n",
        "print(f'Agrupamento: {modulo_agrupamento}')\n",
        "print(f'Estratificado: {modulo_estratificada}')\n",
        "print('')\n",
        "print('Melhor método: Amostragem sistemática')"
      ]
    },
    {
      "cell_type": "code",
      "execution_count": null,
      "metadata": {},
      "outputs": [],
      "source": [
        "df_media = dataset['income'].mean()\n",
        "\n",
        "modulo_aleatoria_simples = abs(df_media - df_amostra_aleatoria_simples['income'].mean())\n",
        "modulo_sistematica = abs(df_media - df_amostra_sistematica['income'].mean())\n",
        "modulo_agrupamento = abs(df_media - df_amostra_agrupamento['income'].mean())\n",
        "modulo_estratificada = abs(df_media - df_amostra_estratificada['income'].mean())\n",
        "\n",
        "print('--Income--')\n",
        "print('')\n",
        "print(f'Aleatória simples: {modulo_aleatoria_simples}')\n",
        "print(f'Sistemática: {modulo_sistematica}')\n",
        "print(f'Agrupamento: {modulo_agrupamento}')\n",
        "print(f'Estratificado: {modulo_estratificada}')\n",
        "print('')\n",
        "print('Melhor método: Amostragem estratificada')"
      ]
    },
    {
      "cell_type": "code",
      "execution_count": null,
      "metadata": {},
      "outputs": [],
      "source": [
        "df_media = dataset['loan'].mean()\n",
        "\n",
        "modulo_aleatoria_simples = abs(df_media - df_amostra_aleatoria_simples['loan'].mean())\n",
        "modulo_sistematica = abs(df_media - df_amostra_sistematica['loan'].mean())\n",
        "modulo_agrupamento = abs(df_media - df_amostra_agrupamento['loan'].mean())\n",
        "modulo_estratificada = abs(df_media - df_amostra_estratificada['loan'].mean())\n",
        "\n",
        "print('--Loan--')\n",
        "print('')\n",
        "print(f'Aleatória simples: {modulo_aleatoria_simples}')\n",
        "print(f'Sistemática: {modulo_sistematica}')\n",
        "print(f'Agrupamento: {modulo_agrupamento}')\n",
        "print(f'Estratificado: {modulo_estratificada}')\n",
        "print('')\n",
        "print('Melhor método: Amostragem aleatória simples')"
      ]
    }
  ],
  "metadata": {
    "colab": {
      "collapsed_sections": [
        "DTxzWPl_Vel4",
        "RrDiirdZ9_m5",
        "LuNZ29C3A8nc",
        "gc3aea8QHqz9",
        "PNtASp3qI4mL",
        "5CKJPA5L7S9q"
      ],
      "provenance": []
    },
    "kernelspec": {
      "display_name": "Python 3",
      "name": "python3"
    },
    "language_info": {
      "codemirror_mode": {
        "name": "ipython",
        "version": 3
      },
      "file_extension": ".py",
      "mimetype": "text/x-python",
      "name": "python",
      "nbconvert_exporter": "python",
      "pygments_lexer": "ipython3",
      "version": "3.10.12"
    }
  },
  "nbformat": 4,
  "nbformat_minor": 0
}
