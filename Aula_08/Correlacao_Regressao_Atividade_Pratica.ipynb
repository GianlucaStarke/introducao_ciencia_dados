{
  "cells": [
    {
      "attachments": {},
      "cell_type": "markdown",
      "metadata": {
        "id": "88NacjOpIvmq"
      },
      "source": [
        "## **Contexto**\n",
        "\n",
        "Suponha que você é um cientista de dados e foi contratado por uma empresa para analisar a relação entre o tempo gasto estudando e as notas obtidas em um exame. A empresa coletou dados de 1000 estudantes para realizar essa análise. O dataset `dados_estudantes.csv` encontra-se junto com a atividade.\n",
        "\n",
        "## **Tarefas**\n",
        "\n",
        "1.   Calcule a correlação entre o tempo de estudo e as notas no exame.\n",
        "2.   Plote um gráfico de dispersão (scatter plot) para visualizar a relação entre as variáveis.\n",
        "3.   Realize a regressão linear simples para prever a nota no exame com base no tempo de estudo.\n",
        "4.   Plote a linha de regressão no gráfico de dispersão.\n",
        "\n",
        "> Observação:\n",
        "> Utilize pandas e matplotlib para visualização e para a regressão use a biblioteca \"scikitlearn\""
      ]
    },
    {
      "cell_type": "markdown",
      "metadata": {
        "id": "AV1UBIjQI4x2"
      },
      "source": [
        "Preencha as células abaixo com o que se pede."
      ]
    },
    {
      "cell_type": "code",
      "execution_count": 1,
      "metadata": {
        "id": "0B-qEMhoIruU"
      },
      "outputs": [],
      "source": [
        "import numpy as np\n",
        "import pandas as pd\n",
        "import matplotlib.pyplot as plt\n",
        "import seaborn as sns\n",
        "from sklearn.model_selection import train_test_split\n",
        "from sklearn.linear_model import LinearRegression"
      ]
    },
    {
      "cell_type": "code",
      "execution_count": 2,
      "metadata": {
        "id": "26Qv0ffhI9UN"
      },
      "outputs": [
        {
          "data": {
            "text/html": [
              "<div>\n",
              "<style scoped>\n",
              "    .dataframe tbody tr th:only-of-type {\n",
              "        vertical-align: middle;\n",
              "    }\n",
              "\n",
              "    .dataframe tbody tr th {\n",
              "        vertical-align: top;\n",
              "    }\n",
              "\n",
              "    .dataframe thead th {\n",
              "        text-align: right;\n",
              "    }\n",
              "</style>\n",
              "<table border=\"1\" class=\"dataframe\">\n",
              "  <thead>\n",
              "    <tr style=\"text-align: right;\">\n",
              "      <th></th>\n",
              "      <th>Tempo de Estudo (horas)</th>\n",
              "      <th>Nota no Exame</th>\n",
              "    </tr>\n",
              "  </thead>\n",
              "  <tbody>\n",
              "    <tr>\n",
              "      <th>0</th>\n",
              "      <td>7</td>\n",
              "      <td>76</td>\n",
              "    </tr>\n",
              "    <tr>\n",
              "      <th>1</th>\n",
              "      <td>4</td>\n",
              "      <td>66</td>\n",
              "    </tr>\n",
              "    <tr>\n",
              "      <th>2</th>\n",
              "      <td>8</td>\n",
              "      <td>74</td>\n",
              "    </tr>\n",
              "    <tr>\n",
              "      <th>3</th>\n",
              "      <td>5</td>\n",
              "      <td>70</td>\n",
              "    </tr>\n",
              "    <tr>\n",
              "      <th>4</th>\n",
              "      <td>7</td>\n",
              "      <td>73</td>\n",
              "    </tr>\n",
              "    <tr>\n",
              "      <th>...</th>\n",
              "      <td>...</td>\n",
              "      <td>...</td>\n",
              "    </tr>\n",
              "    <tr>\n",
              "      <th>995</th>\n",
              "      <td>10</td>\n",
              "      <td>79</td>\n",
              "    </tr>\n",
              "    <tr>\n",
              "      <th>996</th>\n",
              "      <td>10</td>\n",
              "      <td>78</td>\n",
              "    </tr>\n",
              "    <tr>\n",
              "      <th>997</th>\n",
              "      <td>8</td>\n",
              "      <td>76</td>\n",
              "    </tr>\n",
              "    <tr>\n",
              "      <th>998</th>\n",
              "      <td>2</td>\n",
              "      <td>62</td>\n",
              "    </tr>\n",
              "    <tr>\n",
              "      <th>999</th>\n",
              "      <td>9</td>\n",
              "      <td>79</td>\n",
              "    </tr>\n",
              "  </tbody>\n",
              "</table>\n",
              "<p>1000 rows × 2 columns</p>\n",
              "</div>"
            ],
            "text/plain": [
              "     Tempo de Estudo (horas)  Nota no Exame\n",
              "0                          7             76\n",
              "1                          4             66\n",
              "2                          8             74\n",
              "3                          5             70\n",
              "4                          7             73\n",
              "..                       ...            ...\n",
              "995                       10             79\n",
              "996                       10             78\n",
              "997                        8             76\n",
              "998                        2             62\n",
              "999                        9             79\n",
              "\n",
              "[1000 rows x 2 columns]"
            ]
          },
          "execution_count": 2,
          "metadata": {},
          "output_type": "execute_result"
        }
      ],
      "source": [
        "df = pd.read_csv('dados_estudantes.csv')\n",
        "df"
      ]
    },
    {
      "cell_type": "code",
      "execution_count": 3,
      "metadata": {
        "id": "hVpW07YyJCS-"
      },
      "outputs": [
        {
          "data": {
            "text/html": [
              "<div>\n",
              "<style scoped>\n",
              "    .dataframe tbody tr th:only-of-type {\n",
              "        vertical-align: middle;\n",
              "    }\n",
              "\n",
              "    .dataframe tbody tr th {\n",
              "        vertical-align: top;\n",
              "    }\n",
              "\n",
              "    .dataframe thead th {\n",
              "        text-align: right;\n",
              "    }\n",
              "</style>\n",
              "<table border=\"1\" class=\"dataframe\">\n",
              "  <thead>\n",
              "    <tr style=\"text-align: right;\">\n",
              "      <th></th>\n",
              "      <th>Tempo de Estudo (horas)</th>\n",
              "      <th>Nota no Exame</th>\n",
              "    </tr>\n",
              "  </thead>\n",
              "  <tbody>\n",
              "    <tr>\n",
              "      <th>Tempo de Estudo (horas)</th>\n",
              "      <td>1.000000</td>\n",
              "      <td>0.940354</td>\n",
              "    </tr>\n",
              "    <tr>\n",
              "      <th>Nota no Exame</th>\n",
              "      <td>0.940354</td>\n",
              "      <td>1.000000</td>\n",
              "    </tr>\n",
              "  </tbody>\n",
              "</table>\n",
              "</div>"
            ],
            "text/plain": [
              "                         Tempo de Estudo (horas)  Nota no Exame\n",
              "Tempo de Estudo (horas)                 1.000000       0.940354\n",
              "Nota no Exame                           0.940354       1.000000"
            ]
          },
          "execution_count": 3,
          "metadata": {},
          "output_type": "execute_result"
        }
      ],
      "source": [
        "#1\n",
        "df.corr()"
      ]
    },
    {
      "cell_type": "code",
      "execution_count": 4,
      "metadata": {
        "id": "zcvUEfwwJFOW"
      },
      "outputs": [
        {
          "data": {
            "text/plain": [
              "<Axes: xlabel='Tempo de Estudo (horas)', ylabel='Nota no Exame'>"
            ]
          },
          "execution_count": 4,
          "metadata": {},
          "output_type": "execute_result"
        },
        {
          "data": {
            "image/png": "[encoded data removed]",
            "text/plain": [
              "<Figure size 640x480 with 1 Axes>"
            ]
          },
          "metadata": {},
          "output_type": "display_data"
        }
      ],
      "source": [
        "#2\n",
        "x = df['Tempo de Estudo (horas)']\n",
        "y = df['Nota no Exame']\n",
        "\n",
        "sns.scatterplot(x=x, y=y)"
      ]
    },
    {
      "cell_type": "code",
      "execution_count": 5,
      "metadata": {},
      "outputs": [
        {
          "ename": "NameError",
          "evalue": "name 'eixo_x' is not defined",
          "output_type": "error",
          "traceback": [
            "\u001b[0;31m---------------------------------------------------------------------------\u001b[0m",
            "\u001b[0;31mNameError\u001b[0m                                 Traceback (most recent call last)",
            "\u001b[1;32m/home/gianluca/dev/introducao_ciencia_dados/Aula_08/Correlacao_Regressao_Atividade_Pratica.ipynb Cell 7\u001b[0m line \u001b[0;36m1\n\u001b[0;32m----> <a href='vscode-notebook-cell://wsl%2Bubuntu/home/gianluca/dev/introducao_ciencia_dados/Aula_08/Correlacao_Regressao_Atividade_Pratica.ipynb#W6sdnNjb2RlLXJlbW90ZQ%3D%3D?line=0'>1</a>\u001b[0m x \u001b[39m=\u001b[39m (eixo_x\u001b[39m.\u001b[39mvalues)\u001b[39m.\u001b[39mreshape(\u001b[39m-\u001b[39m\u001b[39m1\u001b[39m,\u001b[39m1\u001b[39m)\n\u001b[1;32m      <a href='vscode-notebook-cell://wsl%2Bubuntu/home/gianluca/dev/introducao_ciencia_dados/Aula_08/Correlacao_Regressao_Atividade_Pratica.ipynb#W6sdnNjb2RlLXJlbW90ZQ%3D%3D?line=1'>2</a>\u001b[0m x[:\u001b[39m5\u001b[39m]\n",
            "\u001b[0;31mNameError\u001b[0m: name 'eixo_x' is not defined"
          ]
        }
      ],
      "source": [
        "x = (x.values).reshape(-1,1)\n",
        "x[:5]"
      ]
    },
    {
      "cell_type": "code",
      "execution_count": null,
      "metadata": {},
      "outputs": [],
      "source": [
        "y = (y.values).reshape(-1,1)\n",
        "y[:5]"
      ]
    },
    {
      "cell_type": "code",
      "execution_count": null,
      "metadata": {
        "id": "re7ssJ3pJPlp"
      },
      "outputs": [],
      "source": [
        "#3\n",
        "X_train, X_teste, Y_train, Y_test = train_test_split(x, y, test_size=1/3)\n",
        "regressor = LinearRegression().fit(X_train,Y_train)"
      ]
    },
    {
      "cell_type": "code",
      "execution_count": null,
      "metadata": {
        "id": "OGFjzxzfJUq5"
      },
      "outputs": [],
      "source": [
        "m = regressor.coef_\n",
        "b = regressor.intercept_\n",
        "\n",
        "print(f\"{m = }\")\n",
        "print(f\"{b = }\")"
      ]
    },
    {
      "cell_type": "code",
      "execution_count": null,
      "metadata": {},
      "outputs": [],
      "source": [
        "#4\n",
        "Y_pred = regressor.predict(X_teste)\n",
        "\n",
        "plt.scatter(x, y, color='black', label='Scatter Plot')\n",
        "plt.plot(X_teste, Y_pred, color='red', linewidth=3, label='Regression Line')\n",
        "plt.title('Tempo de Estudo X Nota no Exame')\n",
        "plt.xlabel('Tempo de Estudo (horas)')\n",
        "plt.ylabel('Nota no Exame')\n",
        "plt.legend(loc=4)\n",
        "plt.show()"
      ]
    }
  ],
  "metadata": {
    "colab": {
      "provenance": []
    },
    "kernelspec": {
      "display_name": ".venv",
      "language": "python",
      "name": "python3"
    },
    "language_info": {
      "codemirror_mode": {
        "name": "ipython",
        "version": 3
      },
      "file_extension": ".py",
      "mimetype": "text/x-python",
      "name": "python",
      "nbconvert_exporter": "python",
      "pygments_lexer": "ipython3",
      "version": "3.10.12"
    }
  },
  "nbformat": 4,
  "nbformat_minor": 0
}
