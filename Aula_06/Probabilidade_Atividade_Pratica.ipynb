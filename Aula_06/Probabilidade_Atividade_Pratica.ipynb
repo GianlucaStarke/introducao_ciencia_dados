{
  "cells": [
    {
      "cell_type": "markdown",
      "id": "Ei2bwttt5w0H",
      "metadata": {
        "id": "Ei2bwttt5w0H"
      },
      "source": [
        "# Atividade Prática - Probabilidade\n",
        "\n",
        "Ao percorrer este *notebook*, você encontrará o símbolo **???** em determinados lugares. Para completar esta atividade, substitua todos os estes **???** por valores, expressões ou instruções apropriadas para garantir que ele (*notebook*) seja executado corretamente de ponta a ponta."
      ]
    },
    {
      "cell_type": "markdown",
      "id": "yZbNuuRw5w0a",
      "metadata": {
        "id": "yZbNuuRw5w0a"
      },
      "source": [
        "## Funções Auxiliares (Helper Functions)\n",
        "\n",
        "Você pode usá-las para responder as perguntas."
      ]
    },
    {
      "cell_type": "code",
      "execution_count": 1,
      "id": "NqArAcYd5w0b",
      "metadata": {
        "id": "NqArAcYd5w0b"
      },
      "outputs": [],
      "source": [
        "def probability(matching_outcomes, total_outcomes):\n",
        "    \"\"\"Calcule a probabilidade de um evento quando todos os resultados são igualmente prováveis\"\"\"\n",
        "    return matching_outcomes / total_outcomes\n",
        "\n",
        "def union_probability(p_a, p_b, p_intersection):\n",
        "    \"\"\"Calcule a probabilidade de P(A ou B) dado P(A), P(B) e P(A e B)\n",
        "    isto é: a regra da adição\"\"\"\n",
        "    return p_a + p_b - p_intersection\n"
      ]
    },
    {
      "cell_type": "code",
      "execution_count": 2,
      "id": "V4a4m1ik5w0g",
      "metadata": {
        "id": "V4a4m1ik5w0g"
      },
      "outputs": [],
      "source": [
        "#importa as bibliotecas necessárias\n",
        "import pandas as pd\n",
        "import numpy as np"
      ]
    },
    {
      "cell_type": "markdown",
      "id": "V33HOVKn5w0h",
      "metadata": {
        "id": "V33HOVKn5w0h"
      },
      "source": [
        "# **Desafios**\n",
        "\n",
        "Substitua cada ocorrência **???** por sua resposta. Você pode adicionar novas células de código, se necessário."
      ]
    },
    {
      "cell_type": "markdown",
      "id": "N_Nq44vP5w0i",
      "metadata": {
        "id": "N_Nq44vP5w0i"
      },
      "source": [
        "> **QUESTÃO 1**: Uma moeda é lançada 10.000 vezes e o número de caras resultante foi de 3.490 vezes. Faça uma estimativa da probabilidade de obter uma coroa quando a moeda for lançada. A variável `p_coroa` deve conter sua resposta."
      ]
    },
    {
      "cell_type": "code",
      "execution_count": 3,
      "id": "lI4UG80X5w0j",
      "metadata": {
        "id": "lI4UG80X5w0j"
      },
      "outputs": [],
      "source": [
        "p_coroa = 0.5"
      ]
    },
    {
      "cell_type": "markdown",
      "id": "8NlXahP35w0q",
      "metadata": {
        "id": "8NlXahP35w0q"
      },
      "source": [
        "> **QUESTÃO 2**: Os participantes de um curso online incluem 8 homens da Índia, 9 mulheres da Índia, 5 homens dos EUA e 7 mulheres dos EUA. Se um participante for escolhido aleatoriamente, qual é a probabilidade de que o participante seja americano ou uma mulher? A variável `p_americano_ou_mulher` deve conter sua resposta.\n",
        ">\n",
        "> *Dica*: Identifique os eventos \"$A$\", \"$B$\", \"$A \\textrm{ e } B$\", e então use a função `union_probability`"
      ]
    },
    {
      "cell_type": "code",
      "execution_count": 4,
      "id": "AU1txdl05w0q",
      "metadata": {
        "id": "AU1txdl05w0q"
      },
      "outputs": [],
      "source": [
        "p_mulher = 9 + 7"
      ]
    },
    {
      "cell_type": "code",
      "execution_count": 5,
      "id": "vKO54BBa5w0r",
      "metadata": {
        "id": "vKO54BBa5w0r"
      },
      "outputs": [],
      "source": [
        "p_americano = 5 + 7"
      ]
    },
    {
      "cell_type": "code",
      "execution_count": 6,
      "id": "DoClMS1k5w0s",
      "metadata": {
        "id": "DoClMS1k5w0s"
      },
      "outputs": [],
      "source": [
        "p_americano_e_mulher = 7"
      ]
    },
    {
      "cell_type": "code",
      "execution_count": 7,
      "id": "vqrGin0Z5w0t",
      "metadata": {
        "id": "vqrGin0Z5w0t"
      },
      "outputs": [],
      "source": [
        "p_americano_ou_mulher = probability(union_probability(p_mulher, p_americano, p_americano_e_mulher), (8 + 9 + 5 + 7))\n",
        "p_americano_ou_mulher"
      ]
    },
    {
      "cell_type": "markdown",
      "id": "xs7o5pqC5w0x",
      "metadata": {
        "id": "xs7o5pqC5w0x"
      },
      "source": [
        "> **QUESTÃO 3**: Faça o upload do arquivo (\"**Estudo+de+caso+1.xlsx**\") contendo o resultado de uma pesquisa em uma escola, para saber se as meninas e os meninos gostavam da disciplina de Geografia.\n",
        "\n",
        "> *Dica #1*: O arquivo contém três colunas: `Nome`, `Sexo` e `Gosta de Geografia`.\n",
        "\n",
        "> *Dica #2*: agrupe os valores para formar uma espécie de tabela dinâmica, ou seja, algo como:\n",
        "\n",
        "<pre>\n",
        "        NÃO      SIM      Total\n",
        "F        60      200        260 \n",
        "M       100      140        240\n",
        "Total   160      340        500\n",
        "</pre>\n",
        "\n",
        "Agora calcule:\n",
        "1.   qual a probabilidade de seja um homem?\n",
        "2.   qual a probabilidade que gostou de Geografia?\n",
        "3.   qual a probabilidade que seja uma mulher?\n",
        "4.   qual a probabilidade que não gostou de Geografia?\n",
        "5.   seja uma mulher ou gostou de Geografia?\n",
        "6.   dado que o aluno escolhido gostou da disciplina de Geografia, qual a probabilidade de que o aluno seja um homem?\n",
        "7.   dado que o aluno escolhido é uma mulher, qual a probabilidade de que ela não gostou de Geografia?\n",
        "\n",
        "> *Dica #3*: responda cada pergunta em uma célula diferente.\n",
        "\n",
        "\n",
        "\n",
        "\n",
        "\n",
        "\n"
      ]
    },
    {
      "cell_type": "code",
      "execution_count": 8,
      "metadata": {},
      "outputs": [],
      "source": [
        "estudo_de_caso = pd.read_excel(\"Estudo+de+caso+1.xlsx\")"
      ]
    },
    {
      "cell_type": "code",
      "execution_count": 40,
      "metadata": {},
      "outputs": [],
      "source": [
        "total = len(estudo_de_caso)\n",
        "qtd_homem = len(estudo_de_caso[estudo_de_caso.Sexo == ' M '])\n",
        "qtd_mulher = len(estudo_de_caso[estudo_de_caso.Sexo == ' F '])\n",
        "qtd_gosta_geografia = len(estudo_de_caso[estudo_de_caso['Gosta de Geografia'] == 'SIM'])\n",
        "qtd_nao_gosta_geografia = len(estudo_de_caso[estudo_de_caso['Gosta de Geografia'] == 'NÃO'])\n",
        "qtd_mulher_e_gosta_geografia = len(estudo_de_caso[estudo_de_caso['Gosta de Geografia'] == 'SIM'][estudo_de_caso[estudo_de_caso['Gosta de Geografia'] == 'SIM']['Sexo'] == ' F '])\n",
        "qtd_homem_e_gosta_geografia = len(estudo_de_caso[estudo_de_caso['Gosta de Geografia'] == 'SIM'][estudo_de_caso[estudo_de_caso['Gosta de Geografia'] == 'SIM']['Sexo'] == ' M '])\n",
        "qtd_mulher_e_nao_gosta_geografia = len(estudo_de_caso[estudo_de_caso['Gosta de Geografia'] == 'NÃO'][estudo_de_caso[estudo_de_caso['Gosta de Geografia'] == 'NÃO']['Sexo'] == ' F '])"
      ]
    },
    {
      "cell_type": "code",
      "execution_count": 17,
      "metadata": {},
      "outputs": [
        {
          "data": {
            "text/plain": [
              "0.48"
            ]
          },
          "execution_count": 17,
          "metadata": {},
          "output_type": "execute_result"
        }
      ],
      "source": [
        "p_homem = probability(qtd_homem, total)\n",
        "p_homem"
      ]
    },
    {
      "cell_type": "code",
      "execution_count": 18,
      "metadata": {},
      "outputs": [
        {
          "data": {
            "text/plain": [
              "0.68"
            ]
          },
          "execution_count": 18,
          "metadata": {},
          "output_type": "execute_result"
        }
      ],
      "source": [
        "p_gosta_geografia = probability(qtd_gosta_geografia, total)\n",
        "p_gosta_geografia"
      ]
    },
    {
      "cell_type": "code",
      "execution_count": 19,
      "metadata": {},
      "outputs": [
        {
          "data": {
            "text/plain": [
              "0.52"
            ]
          },
          "execution_count": 19,
          "metadata": {},
          "output_type": "execute_result"
        }
      ],
      "source": [
        "p_mulher = probability(qtd_mulher, total)\n",
        "p_mulher"
      ]
    },
    {
      "cell_type": "code",
      "execution_count": 20,
      "metadata": {},
      "outputs": [
        {
          "data": {
            "text/plain": [
              "0.32"
            ]
          },
          "execution_count": 20,
          "metadata": {},
          "output_type": "execute_result"
        }
      ],
      "source": [
        "p_nao_gosta_geografia = probability(qtd_nao_gosta_geografia, total)\n",
        "p_nao_gosta_geografia"
      ]
    },
    {
      "cell_type": "code",
      "execution_count": 38,
      "metadata": {},
      "outputs": [
        {
          "data": {
            "text/plain": [
              "0.8"
            ]
          },
          "execution_count": 38,
          "metadata": {},
          "output_type": "execute_result"
        }
      ],
      "source": [
        "p_mulher_ou_gosta_geografia = probability(union_probability(qtd_mulher, qtd_gosta_geografia, qtd_mulher_e_gosta_geografia), total)\n",
        "p_mulher_ou_gosta_geografia"
      ]
    },
    {
      "cell_type": "code",
      "execution_count": 41,
      "metadata": {},
      "outputs": [
        {
          "data": {
            "text/plain": [
              "0.88"
            ]
          },
          "execution_count": 41,
          "metadata": {},
          "output_type": "execute_result"
        }
      ],
      "source": [
        "p_homem_ou_gosta_geografia = probability(union_probability(qtd_homem, qtd_gosta_geografia, qtd_homem_e_gosta_geografia), total)\n",
        "p_homem_ou_gosta_geografia"
      ]
    },
    {
      "cell_type": "code",
      "execution_count": 42,
      "metadata": {},
      "outputs": [
        {
          "data": {
            "text/plain": [
              "0.72"
            ]
          },
          "execution_count": 42,
          "metadata": {},
          "output_type": "execute_result"
        }
      ],
      "source": [
        "p_mulher_ou_gosta_geografia = probability(union_probability(qtd_mulher, qtd_nao_gosta_geografia, qtd_mulher_e_nao_gosta_geografia), total)\n",
        "p_mulher_ou_gosta_geografia"
      ]
    }
  ],
  "metadata": {
    "colab": {
      "collapsed_sections": [],
      "name": "Probabilidade_Atividade_Pratica.ipynb",
      "provenance": []
    },
    "kernelspec": {
      "display_name": "Python 3",
      "language": "python",
      "name": "python3"
    },
    "language_info": {
      "codemirror_mode": {
        "name": "ipython",
        "version": 3
      },
      "file_extension": ".py",
      "mimetype": "text/x-python",
      "name": "python",
      "nbconvert_exporter": "python",
      "pygments_lexer": "ipython3",
      "version": "3.10.12"
    }
  },
  "nbformat": 4,
  "nbformat_minor": 5
}
