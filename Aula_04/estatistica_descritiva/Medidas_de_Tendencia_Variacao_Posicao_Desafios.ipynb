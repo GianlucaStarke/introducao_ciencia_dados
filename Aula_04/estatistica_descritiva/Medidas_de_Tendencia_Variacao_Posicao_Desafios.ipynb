{
  "cells": [
    {
      "cell_type": "markdown",
      "metadata": {
        "id": "b-sJV-8TppJh"
      },
      "source": [
        "## **Importa bibliotecas**"
      ]
    },
    {
      "cell_type": "code",
      "execution_count": null,
      "metadata": {
        "id": "jk9u4BJ1Wqpa"
      },
      "outputs": [],
      "source": [
        "import numpy as np\n",
        "import statistics\n",
        "from scipy import stats\n",
        "import math"
      ]
    },
    {
      "cell_type": "markdown",
      "metadata": {
        "id": "P5AnSs-VNcJa"
      },
      "source": [
        "## **Carrega o Conjunto de Dados (dataset)**\n"
      ]
    },
    {
      "cell_type": "code",
      "execution_count": null,
      "metadata": {
        "id": "-iizD18Hpe8P"
      },
      "outputs": [],
      "source": [
        "dados = np.array([150, 151, 152, 152, 153, 154, 155, 155, 155, 155, 156, 156, 156,\n",
        "                  157, 158, 158, 160, 160, 160, 160, 160, 161, 161, 161, 161, 162,\n",
        "                  163, 163, 164, 164, 164, 165, 166, 167, 168, 168, 169, 170, 172,\n",
        "                  173])"
      ]
    },
    {
      "cell_type": "markdown",
      "metadata": {
        "id": "A2a4Ps-RpmCv"
      },
      "source": [
        "# **Medidas de Tendência Central**\n",
        "Valor de um conjunto de dados (dataset) que representa uma entrada típica ou central"
      ]
    },
    {
      "cell_type": "markdown",
      "metadata": {
        "id": "04mBFjDuptL7"
      },
      "source": [
        "## **Média Aritmética Simples**"
      ]
    },
    {
      "cell_type": "code",
      "execution_count": null,
      "metadata": {
        "id": "C-39PNeqXMhx"
      },
      "outputs": [],
      "source": [
        "#calculando média manualmente\n",
        "dados.sum() / len(dados)"
      ]
    },
    {
      "cell_type": "code",
      "execution_count": null,
      "metadata": {
        "id": "IJnw7O4FXYnC"
      },
      "outputs": [],
      "source": [
        "#calculando a média usando função do NumPy\n",
        "dados.mean()"
      ]
    },
    {
      "cell_type": "code",
      "execution_count": null,
      "metadata": {
        "id": "0ertqHN1Xc2H"
      },
      "outputs": [],
      "source": [
        "#calculando a média usando pacote \"statistics\" do Python\n",
        "statistics.mean(dados)"
      ]
    },
    {
      "cell_type": "markdown",
      "metadata": {
        "id": "hkq_zae75joP"
      },
      "source": [
        "## **Moda**"
      ]
    },
    {
      "cell_type": "code",
      "execution_count": null,
      "metadata": {
        "id": "iCdM7KSjX1DD"
      },
      "outputs": [],
      "source": [
        "#calculando a moda usando pacote \"statistics\" do Python\n",
        "statistics.mode(dados)"
      ]
    },
    {
      "cell_type": "code",
      "execution_count": null,
      "metadata": {
        "id": "xEs8kq2GX7k_"
      },
      "outputs": [],
      "source": [
        "#calculando a moda usando pacote \"stats\" do ScyPy\n",
        "stats.mode(dados)"
      ]
    },
    {
      "cell_type": "markdown",
      "metadata": {
        "id": "BNb_PbIM5kk-"
      },
      "source": [
        "## **Mediana**"
      ]
    },
    {
      "cell_type": "code",
      "execution_count": null,
      "metadata": {
        "id": "WYauSw6b8HQs"
      },
      "outputs": [],
      "source": [
        "#número de elementos no dataset é ímpar\n",
        "#os dados devem estar ordenados\n",
        "dados_impar = [150, 151, 152, 152, 153, 154, 155, 155, 155]"
      ]
    },
    {
      "cell_type": "markdown",
      "metadata": {
        "id": "yPHpvq0W-ABs"
      },
      "source": [
        "***Mediana - Cálculo manual (número ímpar de elementos)***"
      ]
    },
    {
      "cell_type": "code",
      "execution_count": null,
      "metadata": {
        "id": "WugwDKtCYS0Y"
      },
      "outputs": [],
      "source": [
        "posicao = len(dados_impar) / 2\n",
        "posicao"
      ]
    },
    {
      "cell_type": "code",
      "execution_count": null,
      "metadata": {
        "id": "EXZTOH_EYhtM"
      },
      "outputs": [],
      "source": [
        "#arredonda para cima\n",
        "posicao = math.ceil(posicao)\n",
        "posicao"
      ]
    },
    {
      "cell_type": "code",
      "execution_count": null,
      "metadata": {
        "id": "938Gx7-vYm1s"
      },
      "outputs": [],
      "source": [
        "#subtrai 1 de posicao porque o índice inicia em zero (0)\n",
        "dados_impar[posicao - 1]"
      ]
    },
    {
      "cell_type": "markdown",
      "metadata": {
        "id": "Y5WBJckZ-jlW"
      },
      "source": [
        "***Mediana - Cálculo manual (número par de elementos)***"
      ]
    },
    {
      "cell_type": "code",
      "execution_count": null,
      "metadata": {
        "id": "sSN8Nf0fY4Zy"
      },
      "outputs": [],
      "source": [
        "#calcula número de elementos do dataset\n",
        "len(dados)"
      ]
    },
    {
      "cell_type": "code",
      "execution_count": null,
      "metadata": {
        "id": "avs6ihXMQt-u"
      },
      "outputs": [],
      "source": [
        "#calcula a divisão inteira (//)\n",
        "posicao = len(dados) // 2\n",
        "posicao"
      ]
    },
    {
      "cell_type": "code",
      "execution_count": null,
      "metadata": {
        "id": "wnGc44QuY8zP"
      },
      "outputs": [],
      "source": [
        "#índice inicia em 0, por isto subtrai\n",
        "#com isto se obtém os dois elmentos centrais do dataset\n",
        "dados[posicao - 1], dados[posicao]"
      ]
    },
    {
      "cell_type": "code",
      "execution_count": null,
      "metadata": {
        "id": "e1jeHsuRZKqh"
      },
      "outputs": [],
      "source": [
        "#mediana é a média aritmética dos dois elementos centrais\n",
        "mediana = (dados[posicao - 1] + dados[posicao]) / 2\n",
        "mediana"
      ]
    },
    {
      "cell_type": "markdown",
      "metadata": {
        "id": "K0JHhy5p_Lc4"
      },
      "source": [
        "**Mediana - cálculo com as bibliotecas**"
      ]
    },
    {
      "cell_type": "code",
      "execution_count": null,
      "metadata": {
        "id": "jHHIhQCaZXjA"
      },
      "outputs": [],
      "source": [
        "np.median(dados_impar)"
      ]
    },
    {
      "cell_type": "code",
      "execution_count": null,
      "metadata": {
        "id": "9ds6VVYVZdDX"
      },
      "outputs": [],
      "source": [
        "np.median(dados)"
      ]
    },
    {
      "cell_type": "code",
      "execution_count": null,
      "metadata": {
        "id": "dhV9QtgTZhDS"
      },
      "outputs": [],
      "source": [
        "statistics.median(dados_impar)"
      ]
    },
    {
      "cell_type": "code",
      "execution_count": null,
      "metadata": {
        "id": "mwvGW0Z-Zl2p"
      },
      "outputs": [],
      "source": [
        "statistics.median(dados)"
      ]
    },
    {
      "cell_type": "markdown",
      "metadata": {
        "id": "sHVY0OeLEhk5"
      },
      "source": [
        "## **Média aritmética ponderada**"
      ]
    },
    {
      "cell_type": "code",
      "execution_count": null,
      "metadata": {
        "id": "KdRONYgwbdSy"
      },
      "outputs": [],
      "source": [
        "notas = np.array([9, 8, 7, 3])\n",
        "pesos = np.array([1, 2, 3, 4])"
      ]
    },
    {
      "cell_type": "code",
      "execution_count": null,
      "metadata": {
        "id": "uVZvT4PQbm_F"
      },
      "outputs": [],
      "source": [
        "(9 * 1 + 8 * 2 + 7 * 3 + 3 * 4) / (1 + 2 + 3 + 4)"
      ]
    },
    {
      "cell_type": "code",
      "execution_count": null,
      "metadata": {
        "id": "t0PCioI9b0J7"
      },
      "outputs": [],
      "source": [
        "media_ponderada = (notas * pesos).sum() / pesos.sum()\n",
        "media_ponderada"
      ]
    },
    {
      "cell_type": "code",
      "execution_count": null,
      "metadata": {
        "id": "gimBCIWFcEcy"
      },
      "outputs": [],
      "source": [
        "np.average(notas, weights=pesos)"
      ]
    },
    {
      "cell_type": "markdown",
      "metadata": {
        "id": "7EZ602jEqI8o"
      },
      "source": [
        "## **Média aritmética, moda e mediana de uma distribuição de frequência (DF)**"
      ]
    },
    {
      "cell_type": "code",
      "execution_count": null,
      "metadata": {
        "id": "u6NbLnwdqQSw"
      },
      "outputs": [],
      "source": [
        "#dicionário com intervalos inferior e superior (i.e. classes)\n",
        "#fi = frequência absoluta\n",
        "dados = {'inferior': [150, 154, 158, 162, 166, 170],\n",
        "         'superior': [154, 158, 162, 166, 170, 174],\n",
        "         'fi': [5, 9, 11, 7, 5, 3]}"
      ]
    },
    {
      "cell_type": "code",
      "execution_count": null,
      "metadata": {
        "id": "k28o28rEq_iU"
      },
      "outputs": [],
      "source": [
        "#importa biblioteca Pandas\n",
        "#converte o dataset em um DataFrame do Pandas\n",
        "import pandas as pd\n",
        "dataset = pd.DataFrame(dados)\n",
        "dataset"
      ]
    },
    {
      "cell_type": "code",
      "execution_count": null,
      "metadata": {
        "id": "DGKVKzR-rHLS"
      },
      "outputs": [],
      "source": [
        "#calcula \"xi\" que é o Ponto Médio dos intervalos\n",
        "#e acrescenta esta coluna no DataFrame\n",
        "dataset['xi'] = (dataset['superior'] + dataset['inferior']) / 2\n",
        "dataset"
      ]
    },
    {
      "cell_type": "code",
      "execution_count": null,
      "metadata": {
        "id": "zq7Ok3L3rXGh"
      },
      "outputs": [],
      "source": [
        "#calcula \"fi.xi\" que é o produto da frequência absoluta com o ponto médio\n",
        "#e acrescenta este produto como uma coluna no DataFrame\n",
        "dataset['fi.xi'] = dataset['fi'] * dataset['xi']\n",
        "dataset"
      ]
    },
    {
      "cell_type": "code",
      "execution_count": null,
      "metadata": {
        "id": "5rhDlMw6p1R4"
      },
      "outputs": [],
      "source": [
        "#cria uma coluna para frequência acumulada ('Fi')\n",
        "# e inicializa os valores dela com zero (0)\n",
        "dataset['Fi'] = 0\n",
        "dataset"
      ]
    },
    {
      "cell_type": "code",
      "execution_count": null,
      "metadata": {
        "id": "rF-G3dOMqKCM"
      },
      "outputs": [],
      "source": [
        "#calcula a frequência acumulada\n",
        "frequencia_acumulada = []\n",
        "somatorio = 0\n",
        "for linha in dataset.iterrows():\n",
        "  #print(linha[1])  #imprime a linha do DataFrame\n",
        "  #print(linha[1][2])  #imprime a coluna \"fi\" do Data Frame\n",
        "  #acumula o valor da \"fi\"\n",
        "  somatorio += linha[1][2]\n",
        "  frequencia_acumulada.append(somatorio)"
      ]
    },
    {
      "cell_type": "code",
      "execution_count": null,
      "metadata": {
        "id": "SAywi7ezrWg_"
      },
      "outputs": [],
      "source": [
        "frequencia_acumulada"
      ]
    },
    {
      "cell_type": "code",
      "execution_count": null,
      "metadata": {
        "id": "GADYIRu2rf_D"
      },
      "outputs": [],
      "source": [
        "#acrescenta a lista acima como uma coluna (\"Fi\") no DataFrame\n",
        "dataset['Fi'] = frequencia_acumulada\n",
        "dataset"
      ]
    },
    {
      "cell_type": "markdown",
      "metadata": {
        "id": "tdRnWXaKs5VH"
      },
      "source": [
        "**Média da Distribuição de Frequência**"
      ]
    },
    {
      "cell_type": "code",
      "execution_count": null,
      "metadata": {
        "id": "V1FXRYTStA5V"
      },
      "outputs": [],
      "source": [
        "#calcula os totais das colunas \"fi\" e \"fi.xi\"\n",
        "dataset['fi'].sum(), dataset['fi.xi'].sum()"
      ]
    },
    {
      "cell_type": "code",
      "execution_count": null,
      "metadata": {
        "id": "W47Mr5cPtPGr"
      },
      "outputs": [],
      "source": [
        "#calcula a média da distribuição de frequência\n",
        "dataset['fi.xi'].sum() / dataset['fi'].sum()"
      ]
    },
    {
      "cell_type": "markdown",
      "metadata": {
        "id": "Qbel3_ais65D"
      },
      "source": [
        "**Moda da Distribuição de Frequência**"
      ]
    },
    {
      "cell_type": "code",
      "execution_count": null,
      "metadata": {
        "id": "hEVZdbrytUgH"
      },
      "outputs": [],
      "source": [
        "#calcula a moda da DF\n",
        "#é o valor da frequência (\"fi\"\") que mais se repete\n",
        "dataset['fi'].max()"
      ]
    },
    {
      "cell_type": "code",
      "execution_count": null,
      "metadata": {
        "id": "Yz3s-hsdtf2U"
      },
      "outputs": [],
      "source": [
        "#usa um filtro para obter a linha da \"fi\" que mais se repete\n",
        "dataset[dataset['fi'] == dataset['fi'].max()]"
      ]
    },
    {
      "cell_type": "code",
      "execution_count": null,
      "metadata": {
        "id": "dIvxTcg_tuNc"
      },
      "outputs": [],
      "source": [
        "#usa um filtro para obter o valor de \"xi\"\n",
        "dataset[dataset['fi'] == dataset['fi'].max()]['xi'].values[0]"
      ]
    },
    {
      "cell_type": "markdown",
      "metadata": {
        "id": "VVh_EdZVs8A4"
      },
      "source": [
        "**Mediana da Distribuição de Frequência**"
      ]
    },
    {
      "cell_type": "code",
      "execution_count": null,
      "metadata": {
        "id": "7XAc0k9ft9st"
      },
      "outputs": [],
      "source": [
        "dataset"
      ]
    },
    {
      "cell_type": "code",
      "execution_count": null,
      "metadata": {
        "id": "0wzJiSOBuFtQ"
      },
      "outputs": [],
      "source": [
        "fi_2 = dataset['fi'].sum() / 2\n",
        "fi_2"
      ]
    },
    {
      "cell_type": "code",
      "execution_count": null,
      "metadata": {
        "id": "tMoZdwCwuhGh"
      },
      "outputs": [],
      "source": [
        "limite_inferior, frequencia_classe, id_frequencia_anterior = 0, 0, 0\n",
        "for linha in dataset.iterrows():\n",
        "  #print(linha)\n",
        "  limite_inferior = linha[1][0]\n",
        "  frequencia_classe = linha[1][2]\n",
        "  id_frequencia_anterior = linha[0]\n",
        "  if linha[1][5] >= fi_2:\n",
        "    id_frequencia_anterior -= 1\n",
        "    break"
      ]
    },
    {
      "cell_type": "code",
      "execution_count": null,
      "metadata": {
        "id": "epjTjW9mvgFB"
      },
      "outputs": [],
      "source": [
        "limite_inferior, frequencia_classe, id_frequencia_anterior"
      ]
    },
    {
      "cell_type": "code",
      "execution_count": null,
      "metadata": {
        "id": "IVEonk5uvpWJ"
      },
      "outputs": [],
      "source": [
        "Fi_anterior = dataset.iloc[[id_frequencia_anterior]]['Fi'].values[0]\n",
        "Fi_anterior"
      ]
    },
    {
      "cell_type": "code",
      "execution_count": null,
      "metadata": {
        "id": "sHR6I53lv2e1"
      },
      "outputs": [],
      "source": [
        "#md = li + ((∑fi/2 - Fiant) * LC) / fi\n",
        "#md = mediana\n",
        "#li = limite inferior do intervalo\n",
        "#∑fi/2 = ponto médio de uma classe (intervalo)\n",
        "#Fiant = frequência acumulada da classe anterior\n",
        "#LC = largura da classe (no caso = 4)\n",
        "#fi = frequência absoluta da classe\n",
        "mediana = limite_inferior + ((fi_2 - Fi_anterior) * 4) / frequencia_classe\n",
        "mediana"
      ]
    },
    {
      "cell_type": "markdown",
      "metadata": {
        "id": "uh7NCu1iwIPa"
      },
      "source": [
        "**Função completa**"
      ]
    },
    {
      "cell_type": "code",
      "execution_count": null,
      "metadata": {
        "id": "hNMHtdsXwH5s"
      },
      "outputs": [],
      "source": [
        "#função para calcular todos os passos manuais acima\n",
        "def get_estatisticas(dataframe):\n",
        "  media = dataset['fi.xi'].sum() / dataset['fi'].sum()\n",
        "  moda = dataset[dataset['fi'] == dataset['fi'].max()]['xi'].values[0]\n",
        "\n",
        "  fi_2 = dataset['fi'].sum() / 2\n",
        "  limite_inferior, frequencia_classe, id_frequencia_anterior = 0, 0, 0\n",
        "  for i, linha in enumerate(dataset.iterrows()):\n",
        "    limite_inferior = linha[1][0]\n",
        "    frequencia_classe = linha[1][2]\n",
        "    id_frequencia_anterior = linha[0]\n",
        "    if linha[1][5] >= fi_2:\n",
        "      id_frequencia_anterior -= 1\n",
        "      break\n",
        "  Fi_anterior = dataset.iloc[[id_frequencia_anterior]]['Fi'].values[0]\n",
        "  mediana = limite_inferior + ((fi_2 - Fi_anterior) * 4) / frequencia_classe\n",
        "\n",
        "  #retorna a média, a moda e a mediana\n",
        "  return media, moda, mediana"
      ]
    },
    {
      "cell_type": "code",
      "execution_count": null,
      "metadata": {
        "id": "A1KzRLFDwMJq"
      },
      "outputs": [],
      "source": [
        "#chama a função passando o dataset para efetuar os cálculos\n",
        "get_estatisticas(dataset)"
      ]
    },
    {
      "cell_type": "markdown",
      "metadata": {
        "id": "-dopP1kEKPLp"
      },
      "source": [
        "# **Medidas de Variação**\n",
        "Indicam o quanto os dados se apresentam dispersos (espalhados) em torno da região central. Elas mostram o grau de variação existente no dataset. Mais usadas: Amplitude Total, Desvio Padrão e Variância"
      ]
    },
    {
      "cell_type": "markdown",
      "metadata": {
        "id": "A0Jb0lxfvX8V"
      },
      "source": [
        "## **Amplitude Total**"
      ]
    },
    {
      "cell_type": "code",
      "execution_count": null,
      "metadata": {
        "id": "rZaTx4xKvUlb"
      },
      "outputs": [],
      "source": [
        "dados = np.array([150, 151, 152, 152, 153, 154, 155, 155, 155, 155, 156, 156, 156,\n",
        "                  157, 158, 158, 160, 160, 160, 160, 160, 161, 161, 161, 161, 162,\n",
        "                  163, 163, 164, 164, 164, 165, 166, 167, 168, 168, 169, 170, 172,\n",
        "                  173])\n",
        "dados"
      ]
    },
    {
      "cell_type": "code",
      "execution_count": null,
      "metadata": {
        "id": "hy3fiaAtvUld"
      },
      "outputs": [],
      "source": [
        "#calcula a Amplitude Total\n",
        "dados.max() - dados.min()"
      ]
    },
    {
      "cell_type": "markdown",
      "metadata": {
        "id": "C2TRnsP6PINq"
      },
      "source": [
        "## **Desvio, Variância, Desvio Padrão e Coeficiente de Variação**"
      ]
    },
    {
      "cell_type": "code",
      "execution_count": null,
      "metadata": {
        "id": "XtvrTH_KPVrj"
      },
      "outputs": [],
      "source": [
        "#vamos usar um dataset menor\n",
        "dados_impar = np.array([150, 151, 152, 152, 153, 154, 155, 155, 155])"
      ]
    },
    {
      "cell_type": "markdown",
      "metadata": {
        "id": "w_PKhpBFPMpe"
      },
      "source": [
        "**Cálculo manual**"
      ]
    },
    {
      "cell_type": "code",
      "execution_count": null,
      "metadata": {
        "id": "CghU9wNFPgZd"
      },
      "outputs": [],
      "source": [
        "#calcula a média da população\n",
        "media = dados_impar.sum() / len(dados_impar)\n",
        "media"
      ]
    },
    {
      "cell_type": "code",
      "execution_count": null,
      "metadata": {
        "id": "rIEceGDNQERu"
      },
      "outputs": [],
      "source": [
        "#calcula o desvio (xi - média)\n",
        "#é a diferença entre a entrada (xi) e a média do dataset\n",
        "desvio = dados_impar - media\n",
        "desvio"
      ]
    },
    {
      "cell_type": "code",
      "execution_count": null,
      "metadata": {
        "id": "zZvtvDIUQWq6"
      },
      "outputs": [],
      "source": [
        "#calcula os quadrados ((xi - média)**2) ou desvio**2\n",
        "quadrados = desvio ** 2\n",
        "quadrados"
      ]
    },
    {
      "cell_type": "code",
      "execution_count": null,
      "metadata": {
        "id": "YkfDmtQeQgD1"
      },
      "outputs": [],
      "source": [
        "#calcula a soma total dos quadrados (SSx)\n",
        "soma_quadrados = quadrados.sum()\n",
        "soma_quadrados"
      ]
    },
    {
      "cell_type": "code",
      "execution_count": null,
      "metadata": {
        "id": "kzpWXvrMQk--"
      },
      "outputs": [],
      "source": [
        "#calcula a variância populacional\n",
        "v = soma_quadrados / len(dados_impar)\n",
        "v"
      ]
    },
    {
      "cell_type": "code",
      "execution_count": null,
      "metadata": {
        "id": "xTVUeK9wTKMs"
      },
      "outputs": [],
      "source": [
        "#calcula o desvio padrão populacional\n",
        "#em inglês desvio padrão é chamado de \"standard deviation\"\n",
        "dp = math.sqrt(v)\n",
        "dp"
      ]
    },
    {
      "cell_type": "code",
      "execution_count": null,
      "metadata": {
        "id": "qk1ByuaoVdFs"
      },
      "outputs": [],
      "source": [
        "#calcula o coeficiente de variação (cv)\n",
        "#CV de um conjunto de dados descreve o desvio padrão como uma porcentagem da média\n",
        "cv = (dp / media) * 100\n",
        "cv"
      ]
    },
    {
      "cell_type": "code",
      "execution_count": null,
      "metadata": {
        "id": "vdCkODt5QzoD"
      },
      "outputs": [],
      "source": [
        "#função para efetuar todos os cálculos\n",
        "def get_variancia_desvio_padrao_coeficiente(dataset):\n",
        "  media = dataset.sum() / len(dataset)\n",
        "  desvio = dados_impar - media\n",
        "  quadrados = desvio ** 2\n",
        "  soma_quadrados = quadrados.sum()\n",
        "  variancia = soma_quadrados / len(dados_impar)\n",
        "  dp = math.sqrt(variancia)\n",
        "  return variancia, dp, (dp / media) * 100"
      ]
    },
    {
      "cell_type": "code",
      "execution_count": null,
      "metadata": {
        "id": "Mx8qt1epRDdc"
      },
      "outputs": [],
      "source": [
        "#chama a função passando o dataset para efetuar os cálcuos\n",
        "get_variancia_desvio_padrao_coeficiente(dados_impar)"
      ]
    },
    {
      "cell_type": "markdown",
      "metadata": {
        "id": "VxDOYNX3POJN"
      },
      "source": [
        "**Usando as Bibliotecas**"
      ]
    },
    {
      "cell_type": "code",
      "execution_count": null,
      "metadata": {
        "id": "hAe47WyIQwvW"
      },
      "outputs": [],
      "source": [
        "np.var(dados_impar)"
      ]
    },
    {
      "cell_type": "code",
      "execution_count": null,
      "metadata": {
        "id": "1yYefrfsTfes"
      },
      "outputs": [],
      "source": [
        "np.std(dados_impar)"
      ]
    },
    {
      "cell_type": "code",
      "execution_count": null,
      "metadata": {
        "id": "4Ilo1yOlRWjG"
      },
      "outputs": [],
      "source": [
        "np.var(dados)"
      ]
    },
    {
      "cell_type": "code",
      "execution_count": null,
      "metadata": {
        "id": "3RG-BmxCTjmc"
      },
      "outputs": [],
      "source": [
        "np.std(dados)"
      ]
    },
    {
      "cell_type": "code",
      "execution_count": null,
      "metadata": {
        "id": "TuJ8ZCHaRiv3"
      },
      "outputs": [],
      "source": [
        "statistics.variance(dados)"
      ]
    },
    {
      "cell_type": "code",
      "execution_count": null,
      "metadata": {
        "id": "4nJ9mXjET_Ap"
      },
      "outputs": [],
      "source": [
        "statistics.stdev(dados)"
      ]
    },
    {
      "cell_type": "code",
      "execution_count": null,
      "metadata": {
        "id": "RevDXM8qRm-Q"
      },
      "outputs": [],
      "source": [
        "from scipy import ndimage\n",
        "ndimage.variance(dados)"
      ]
    },
    {
      "cell_type": "code",
      "execution_count": null,
      "metadata": {
        "id": "q3roW8SmUEG-"
      },
      "outputs": [],
      "source": [
        "stats.tstd(dados, ddof = 0)"
      ]
    },
    {
      "cell_type": "code",
      "execution_count": null,
      "metadata": {
        "id": "e9pyRHARV5oW"
      },
      "outputs": [],
      "source": [
        "stats.variation(dados_impar) * 100"
      ]
    },
    {
      "cell_type": "code",
      "execution_count": null,
      "metadata": {
        "id": "a3ha8ug4WD0r"
      },
      "outputs": [],
      "source": [
        "stats.variation(dados) * 100"
      ]
    },
    {
      "cell_type": "markdown",
      "metadata": {
        "id": "Eeu0nG1TuENl"
      },
      "source": [
        "# **Medidas de Posição**\n",
        "Descrevem a posição que um valor de dados específico possui em relação ao resto dos outros dados. Mais usadas: Quartis, Percentis e Decis\n",
        "\n"
      ]
    },
    {
      "cell_type": "markdown",
      "metadata": {
        "id": "VyF_516h54sn"
      },
      "source": [
        "**Quartis**\n",
        "\n",
        "São números que dividem um conjunto de dados ordenado em 4 partes iguais\n",
        "\n",
        "\n",
        "*   Primeiro Quartil (Q1)\n",
        "*   Segundo Quartil (Q2) (é a mediana do dataset)\n",
        "*   Terceiro Quartil (Q3)\n",
        "\n",
        "\n"
      ]
    },
    {
      "cell_type": "code",
      "execution_count": null,
      "metadata": {
        "id": "4cYJ4s3856Wg"
      },
      "outputs": [],
      "source": [
        "dados_impar = [150, 151, 152, 152, 153, 154, 155, 155, 155]"
      ]
    },
    {
      "cell_type": "markdown",
      "metadata": {
        "id": "9BZwV9mY5-u1"
      },
      "source": [
        "### Cálculo manual"
      ]
    },
    {
      "cell_type": "code",
      "execution_count": null,
      "metadata": {
        "id": "RyvlO0Y66cbq"
      },
      "outputs": [],
      "source": [
        "#calcula a mediana do dataset que é o Q2\n",
        "#Q2 divide o conjunto de dados em 2 metades\n",
        "#Q1 e Q3 também são as medianas destas 2 metades, respectivamente\n",
        "np.median(dados_impar)"
      ]
    },
    {
      "cell_type": "code",
      "execution_count": null,
      "metadata": {
        "id": "9onAwzrU6qSL"
      },
      "outputs": [],
      "source": [
        "#calcula a posição da mediana (Q2)\n",
        "#arredonda o valor para baixo (math.floor)\n",
        "posicao_mediana = math.floor(len(dados_impar) / 2)\n",
        "posicao_mediana"
      ]
    },
    {
      "cell_type": "code",
      "execution_count": null,
      "metadata": {
        "id": "5OXuJgwx62EM"
      },
      "outputs": [],
      "source": [
        "esquerda = dados_impar[0:posicao_mediana]\n",
        "esquerda"
      ]
    },
    {
      "cell_type": "code",
      "execution_count": null,
      "metadata": {
        "id": "8uaADedN7END"
      },
      "outputs": [],
      "source": [
        "#calcula o Q1\n",
        "np.median(esquerda)"
      ]
    },
    {
      "cell_type": "code",
      "execution_count": null,
      "metadata": {
        "id": "rku5WV_v7KJO"
      },
      "outputs": [],
      "source": [
        "direita = dados_impar[posicao_mediana + 1:]\n",
        "direita"
      ]
    },
    {
      "cell_type": "code",
      "execution_count": null,
      "metadata": {
        "id": "FUgD6WvY7Vvk"
      },
      "outputs": [],
      "source": [
        "#calcula o Q3\n",
        "np.median(direita)"
      ]
    },
    {
      "cell_type": "markdown",
      "metadata": {
        "id": "13w9k3dl6Bqc"
      },
      "source": [
        "**Calculando Q1, Q2 e Q3 usando as Bibliotecas**"
      ]
    },
    {
      "cell_type": "markdown",
      "metadata": {
        "id": "-Kt4Xxvf6DHv"
      },
      "source": [
        "#### numpy"
      ]
    },
    {
      "cell_type": "code",
      "execution_count": null,
      "metadata": {
        "id": "e0O7axSm7eHc"
      },
      "outputs": [],
      "source": [
        "#calcula Q2\n",
        "np.quantile(dados_impar, 0.5)"
      ]
    },
    {
      "cell_type": "code",
      "execution_count": null,
      "metadata": {
        "id": "hAdVsrD_7khd"
      },
      "outputs": [],
      "source": [
        "#calcula Q3\n",
        "np.quantile(dados_impar, 0.75)"
      ]
    },
    {
      "cell_type": "code",
      "execution_count": null,
      "metadata": {
        "id": "PsJ_B8na7omh"
      },
      "outputs": [],
      "source": [
        "#calcula Q1\n",
        "#esta função inclui o valor 153, infelizmente\n",
        "np.quantile(dados_impar, 0.25)"
      ]
    },
    {
      "cell_type": "code",
      "execution_count": null,
      "metadata": {
        "id": "1zvFaUQn74EQ"
      },
      "outputs": [],
      "source": [
        "#mostrar como o 153 está incluído no cálculo\n",
        "esquerda2 = dados_impar[0:posicao_mediana + 1]\n",
        "esquerda2"
      ]
    },
    {
      "cell_type": "code",
      "execution_count": null,
      "metadata": {
        "id": "DWUO2FTb7-A6"
      },
      "outputs": [],
      "source": [
        "np.median(esquerda2)"
      ]
    },
    {
      "cell_type": "code",
      "execution_count": null,
      "metadata": {
        "id": "slThBXsj8CA6"
      },
      "outputs": [],
      "source": [
        "#cálculando Q1, Q2 e Q3 sobre o dataset original (maior)\n",
        "np.quantile(dados, 0.25), np.quantile(dados, 0.50), np.quantile(dados, 0.75)"
      ]
    },
    {
      "cell_type": "markdown",
      "metadata": {
        "id": "N9sKA2GP6FNy"
      },
      "source": [
        "#### scipy"
      ]
    },
    {
      "cell_type": "code",
      "execution_count": null,
      "metadata": {
        "id": "nhswmwGL8PQ6"
      },
      "outputs": [],
      "source": [
        "stats.scoreatpercentile(dados, 25), stats.scoreatpercentile(dados, 50), stats.scoreatpercentile(dados, 75)"
      ]
    },
    {
      "cell_type": "markdown",
      "metadata": {
        "id": "k3MtyYZl6HBb"
      },
      "source": [
        "#### pandas"
      ]
    },
    {
      "cell_type": "code",
      "execution_count": null,
      "metadata": {
        "id": "Ti0Zldxh8b8-"
      },
      "outputs": [],
      "source": [
        "import pandas as pd\n",
        "dataset = pd.DataFrame(dados)\n",
        "dataset.head()"
      ]
    },
    {
      "cell_type": "code",
      "execution_count": null,
      "metadata": {
        "id": "UIqDiuW98lOl"
      },
      "outputs": [],
      "source": [
        "#passa os valores em forma de lista\n",
        "dataset.quantile([0.25, 0.5, 0.75])"
      ]
    },
    {
      "cell_type": "code",
      "execution_count": null,
      "metadata": {
        "id": "R906LS198tyn"
      },
      "outputs": [],
      "source": [
        "#função do Pandas que efetua o cálculo de todas as medidas\n",
        "dataset.describe()"
      ]
    },
    {
      "cell_type": "markdown",
      "metadata": {
        "id": "bTJuo1fhKabw"
      },
      "source": [
        "## **Amplitude Interquartil (AIQ)**"
      ]
    },
    {
      "cell_type": "code",
      "execution_count": null,
      "metadata": {
        "id": "Ev6ZLHJaKfRO"
      },
      "outputs": [],
      "source": [
        "dados"
      ]
    },
    {
      "cell_type": "code",
      "execution_count": null,
      "metadata": {
        "id": "Wy_4jziLK0LP"
      },
      "outputs": [],
      "source": [
        "#Calcula a Amplitude Total (AT)\n",
        "dados.max() - dados.min()"
      ]
    },
    {
      "cell_type": "code",
      "execution_count": null,
      "metadata": {
        "id": "exbPoyqzK6bQ"
      },
      "outputs": [],
      "source": [
        "Q1 = np.quantile(dados, 0.25)\n",
        "Q3 = np.quantile(dados, 0.75)\n",
        "Q1, Q3"
      ]
    },
    {
      "cell_type": "code",
      "execution_count": null,
      "metadata": {
        "id": "NZBb9ENXLGs-"
      },
      "outputs": [],
      "source": [
        "#Significa que os valores do dataset na metade dele variam no máximo em 8.25\n",
        "diferenca_interquartil = Q3 - Q1\n",
        "diferenca_interquartil"
      ]
    },
    {
      "cell_type": "markdown",
      "metadata": {
        "id": "40X2rZ6KA0rW"
      },
      "source": [
        "## **Percentis**\n",
        "\n",
        "Divide o conjunto de dados em 100 partes iguais"
      ]
    },
    {
      "cell_type": "code",
      "execution_count": null,
      "metadata": {
        "id": "BNt-XeoiC4tX"
      },
      "outputs": [],
      "source": [
        "np.median(dados)"
      ]
    },
    {
      "cell_type": "code",
      "execution_count": null,
      "metadata": {
        "id": "ekvq8XaMDJZX"
      },
      "outputs": [],
      "source": [
        "np.quantile(dados, 0.5)"
      ]
    },
    {
      "cell_type": "code",
      "execution_count": null,
      "metadata": {
        "id": "RVZB3gJ8DOhJ"
      },
      "outputs": [],
      "source": [
        "np.percentile(dados, 50)"
      ]
    },
    {
      "cell_type": "code",
      "execution_count": null,
      "metadata": {
        "id": "EGZlSML1DTt6"
      },
      "outputs": [],
      "source": [
        "np.percentile(dados, 5), np.percentile(dados, 10), np.percentile(dados, 90)"
      ]
    },
    {
      "cell_type": "code",
      "execution_count": null,
      "metadata": {
        "id": "FMs5kbKnDqFQ"
      },
      "outputs": [],
      "source": [
        "stats.scoreatpercentile(dados, 5), stats.scoreatpercentile(dados, 10), stats.scoreatpercentile(dados, 90)"
      ]
    },
    {
      "cell_type": "code",
      "execution_count": null,
      "metadata": {
        "id": "QEdIDmpaD4uI"
      },
      "outputs": [],
      "source": [
        "import pandas as pd\n",
        "dataset = pd.DataFrame(dados)\n",
        "dataset.head()"
      ]
    },
    {
      "cell_type": "code",
      "execution_count": null,
      "metadata": {
        "id": "5_JpPm-3EAt9"
      },
      "outputs": [],
      "source": [
        "dataset.quantile([0.05, 0.10, 0.90])"
      ]
    },
    {
      "cell_type": "markdown",
      "metadata": {
        "id": "dkvpLKH6EkIF"
      },
      "source": [
        "# **Desafio #1**\n",
        "\n",
        "**Gerar estatísticas para o atributo \"age\" do dataset \"census.csv\"**\n",
        "\n",
        "\n",
        "\n",
        "*   Carregue (\"upload\") o arquivo \"census.csv\"\n",
        "*   Calcule a média, mediana e a moda\n",
        "*   Compare os resultados\n",
        "\n"
      ]
    },
    {
      "cell_type": "code",
      "execution_count": 10,
      "metadata": {},
      "outputs": [],
      "source": [
        "import pandas as pd\n",
        "import numpy as np\n",
        "import statistics as stat"
      ]
    },
    {
      "cell_type": "code",
      "execution_count": 2,
      "metadata": {},
      "outputs": [],
      "source": [
        "census = pd.read_csv('census.csv')\n",
        "census_sortido_por_idade = census.sort_values('age')\n",
        "age = census_sortido_por_idade.loc[:,'age']"
      ]
    },
    {
      "cell_type": "code",
      "execution_count": 11,
      "metadata": {},
      "outputs": [
        {
          "name": "stdout",
          "output_type": "stream",
          "text": [
            "media: 38.6\n",
            "mediana: 37.0\n",
            "moda: 36.0\n"
          ]
        }
      ],
      "source": [
        "media = sum(age) / len(age)\n",
        "mediana = np.median(age)\n",
        "moda = stat.mode(age)\n",
        "\n",
        "print(f'media: {media:.1f}\\nmediana: {mediana:.1f}\\nmoda: {moda:.1f}')"
      ]
    },
    {
      "cell_type": "markdown",
      "metadata": {
        "id": "KtQhoAiWGcES"
      },
      "source": [
        "# **Desafio #2**\n",
        "\n",
        "Desenhe o gráfico BoxPlot"
      ]
    },
    {
      "cell_type": "code",
      "execution_count": 12,
      "metadata": {},
      "outputs": [
        {
          "data": {
            "text/plain": [
              "<Axes: >"
            ]
          },
          "execution_count": 12,
          "metadata": {},
          "output_type": "execute_result"
        },
        {
          "data": {
            "image/png": "[encoded data removed]",
            "text/plain": [
              "<Figure size 640x480 with 1 Axes>"
            ]
          },
          "metadata": {},
          "output_type": "display_data"
        }
      ],
      "source": [
        "age.plot(kind='box')"
      ]
    }
  ],
  "metadata": {
    "colab": {
      "provenance": []
    },
    "kernelspec": {
      "display_name": "Python 3",
      "name": "python3"
    },
    "language_info": {
      "codemirror_mode": {
        "name": "ipython",
        "version": 3
      },
      "file_extension": ".py",
      "mimetype": "text/x-python",
      "name": "python",
      "nbconvert_exporter": "python",
      "pygments_lexer": "ipython3",
      "version": "3.10.12"
    }
  },
  "nbformat": 4,
  "nbformat_minor": 0
}
