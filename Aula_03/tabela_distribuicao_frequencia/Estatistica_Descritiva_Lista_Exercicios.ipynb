{
  "cells": [
    {
      "cell_type": "markdown",
      "metadata": {
        "id": "XRSYHKXEQGOL"
      },
      "source": [
        "Neste notebook você vai resolver alguns exercícios, cada um composto de várias etapas.\n",
        "\n",
        "---"
      ]
    },
    {
      "cell_type": "markdown",
      "metadata": {
        "id": "vvplGyW2N3rX"
      },
      "source": [
        "# **Lista de Exercícios**\n",
        "\n",
        "Esta lista tem por objetivo colocar a mão na massa e relembrar os conceitos que foram passados nas aulas anteriores.\n",
        "\n",
        "<center><img src=\"https://images.unsplash.com/photo-1542903660-eedba2cda473?ixid=MnwxMjA3fDB8MHxwaG90by1wYWdlfHx8fGVufDB8fHx8&ixlib=rb-1.2.1&auto=format&fit=crop&w=1050&q=80\" height=\"400px\"></center>\n"
      ]
    },
    {
      "cell_type": "markdown",
      "metadata": {
        "id": "9GQoXiddIpr9"
      },
      "source": [
        "# **Exercício 1**\n",
        "\n",
        "* Importar o pacote Pandas\n",
        "* importar os dados de ocorrências da aviação civil neste link\n",
        "* Ver qual o tamanho (linhas x colunas) do *DataFrame*\n",
        "* Verificar as 5 primeiras"
      ]
    },
    {
      "cell_type": "markdown",
      "metadata": {
        "id": "hdRXuNktKw9p"
      },
      "source": [
        "**Importe o Pandas e importe os dados de ocorrências da aviação civil que se encontram em `csv` [neste link](https://raw.githubusercontent.com/carlosfab/dsnp2/master/datasets/ocorrencias_aviacao.csv).**"
      ]
    },
    {
      "cell_type": "code",
      "execution_count": 1,
      "metadata": {
        "id": "8TpD5o8MLMaV"
      },
      "outputs": [],
      "source": [
        "import pandas as pd\n",
        "\n",
        "ocorrencias_aviacao = pd.read_csv('ocorrencias_aviacao.csv')"
      ]
    },
    {
      "cell_type": "markdown",
      "metadata": {
        "id": "Tf8ScLP9LRjq"
      },
      "source": [
        "**Veja qual o tamanho (linhas e colunas) do conjunto de dados importado.**"
      ]
    },
    {
      "cell_type": "code",
      "execution_count": 2,
      "metadata": {
        "id": "vGsqOw52LnKZ"
      },
      "outputs": [
        {
          "data": {
            "text/plain": [
              "(5208, 22)"
            ]
          },
          "execution_count": 2,
          "metadata": {},
          "output_type": "execute_result"
        }
      ],
      "source": [
        "ocorrencias_aviacao.shape"
      ]
    },
    {
      "cell_type": "markdown",
      "metadata": {
        "id": "OvvxJlZXL-BH"
      },
      "source": [
        "**Identifique o tipo de cada coluna (inteiro, float, object).**"
      ]
    },
    {
      "cell_type": "code",
      "execution_count": 3,
      "metadata": {
        "id": "MjAmdNplMOMJ"
      },
      "outputs": [
        {
          "data": {
            "text/plain": [
              "codigo_ocorrencia                   int64\n",
              "ocorrencia_classificacao           object\n",
              "ocorrencia_tipo                    object\n",
              "ocorrencia_tipo_categoria          object\n",
              "ocorrencia_tipo_icao               object\n",
              "ocorrencia_latitude               float64\n",
              "ocorrencia_longitude              float64\n",
              "ocorrencia_cidade                  object\n",
              "ocorrencia_uf                      object\n",
              "ocorrencia_pais                    object\n",
              "ocorrencia_aerodromo               object\n",
              "ocorrencia_dia                     object\n",
              "ocorrencia_horario                 object\n",
              "investigacao_aeronave_liberada     object\n",
              "investigacao_status                object\n",
              "divulgacao_relatorio_numero        object\n",
              "divulgacao_relatorio_publicado     object\n",
              "divulgacao_dia_publicacao          object\n",
              "total_recomendacoes                 int64\n",
              "total_aeronaves_envolvidas          int64\n",
              "ocorrencia_saida_pista             object\n",
              "ocorrencia_dia_extracao            object\n",
              "dtype: object"
            ]
          },
          "execution_count": 3,
          "metadata": {},
          "output_type": "execute_result"
        }
      ],
      "source": [
        "ocorrencias_aviacao.dtypes"
      ]
    },
    {
      "cell_type": "markdown",
      "metadata": {
        "id": "ew5bo-eZMTCZ"
      },
      "source": [
        "**Veja as 3 primeiras entradas do conjunto de dados.**"
      ]
    },
    {
      "cell_type": "code",
      "execution_count": 4,
      "metadata": {
        "id": "e1xx_cXFMaM2"
      },
      "outputs": [
        {
          "data": {
            "text/html": [
              "<div>\n",
              "<style scoped>\n",
              "    .dataframe tbody tr th:only-of-type {\n",
              "        vertical-align: middle;\n",
              "    }\n",
              "\n",
              "    .dataframe tbody tr th {\n",
              "        vertical-align: top;\n",
              "    }\n",
              "\n",
              "    .dataframe thead th {\n",
              "        text-align: right;\n",
              "    }\n",
              "</style>\n",
              "<table border=\"1\" class=\"dataframe\">\n",
              "  <thead>\n",
              "    <tr style=\"text-align: right;\">\n",
              "      <th></th>\n",
              "      <th>codigo_ocorrencia</th>\n",
              "      <th>ocorrencia_classificacao</th>\n",
              "      <th>ocorrencia_tipo</th>\n",
              "      <th>ocorrencia_tipo_categoria</th>\n",
              "      <th>ocorrencia_tipo_icao</th>\n",
              "      <th>ocorrencia_latitude</th>\n",
              "      <th>ocorrencia_longitude</th>\n",
              "      <th>ocorrencia_cidade</th>\n",
              "      <th>ocorrencia_uf</th>\n",
              "      <th>ocorrencia_pais</th>\n",
              "      <th>...</th>\n",
              "      <th>ocorrencia_horario</th>\n",
              "      <th>investigacao_aeronave_liberada</th>\n",
              "      <th>investigacao_status</th>\n",
              "      <th>divulgacao_relatorio_numero</th>\n",
              "      <th>divulgacao_relatorio_publicado</th>\n",
              "      <th>divulgacao_dia_publicacao</th>\n",
              "      <th>total_recomendacoes</th>\n",
              "      <th>total_aeronaves_envolvidas</th>\n",
              "      <th>ocorrencia_saida_pista</th>\n",
              "      <th>ocorrencia_dia_extracao</th>\n",
              "    </tr>\n",
              "  </thead>\n",
              "  <tbody>\n",
              "    <tr>\n",
              "      <th>0</th>\n",
              "      <td>201305055424986</td>\n",
              "      <td>ACIDENTE</td>\n",
              "      <td>FALHA DO MOTOR EM VOO</td>\n",
              "      <td>FALHA OU MAU FUNCIONAMENTO DO MOTOR</td>\n",
              "      <td>SCF-PP</td>\n",
              "      <td>-9.9085</td>\n",
              "      <td>-63.0333</td>\n",
              "      <td>ARIQUEMES</td>\n",
              "      <td>RO</td>\n",
              "      <td>BRASIL</td>\n",
              "      <td>...</td>\n",
              "      <td>11:00:00</td>\n",
              "      <td>NaN</td>\n",
              "      <td>FINALIZADA</td>\n",
              "      <td>***</td>\n",
              "      <td>NÃO</td>\n",
              "      <td>NaN</td>\n",
              "      <td>0</td>\n",
              "      <td>1</td>\n",
              "      <td>NÃO</td>\n",
              "      <td>2018-08-28</td>\n",
              "    </tr>\n",
              "    <tr>\n",
              "      <th>1</th>\n",
              "      <td>201605160250139</td>\n",
              "      <td>INCIDENTE GRAVE</td>\n",
              "      <td>COLISÃO COM OBSTÁCULO DURANTE A DECOLAGEM E POUSO</td>\n",
              "      <td>COLISÃO COM OBSTÁCULO DURANTE A DECOLAGEM E POUSO</td>\n",
              "      <td>CTOL</td>\n",
              "      <td>-11.2644</td>\n",
              "      <td>-61.2589</td>\n",
              "      <td>CACOAL</td>\n",
              "      <td>RO</td>\n",
              "      <td>BRASIL</td>\n",
              "      <td>...</td>\n",
              "      <td>19:19:00</td>\n",
              "      <td>SIM</td>\n",
              "      <td>ATIVA</td>\n",
              "      <td>IG-084/CENIPA/2016</td>\n",
              "      <td>NÃO</td>\n",
              "      <td>NaN</td>\n",
              "      <td>0</td>\n",
              "      <td>1</td>\n",
              "      <td>NÃO</td>\n",
              "      <td>2018-08-28</td>\n",
              "    </tr>\n",
              "    <tr>\n",
              "      <th>2</th>\n",
              "      <td>201805021421302</td>\n",
              "      <td>INCIDENTE</td>\n",
              "      <td>AERÓDROMO</td>\n",
              "      <td>AERÓDROMO</td>\n",
              "      <td>ADRM</td>\n",
              "      <td>-11.4956</td>\n",
              "      <td>-61.4508</td>\n",
              "      <td>CACOAL</td>\n",
              "      <td>RO</td>\n",
              "      <td>BRASIL</td>\n",
              "      <td>...</td>\n",
              "      <td>22:40:00</td>\n",
              "      <td>SIM</td>\n",
              "      <td>FINALIZADA</td>\n",
              "      <td>***</td>\n",
              "      <td>NÃO</td>\n",
              "      <td>NaN</td>\n",
              "      <td>0</td>\n",
              "      <td>1</td>\n",
              "      <td>NÃO</td>\n",
              "      <td>2018-08-28</td>\n",
              "    </tr>\n",
              "  </tbody>\n",
              "</table>\n",
              "<p>3 rows × 22 columns</p>\n",
              "</div>"
            ],
            "text/plain": [
              "   codigo_ocorrencia ocorrencia_classificacao  \\\n",
              "0    201305055424986                 ACIDENTE   \n",
              "1    201605160250139          INCIDENTE GRAVE   \n",
              "2    201805021421302                INCIDENTE   \n",
              "\n",
              "                                     ocorrencia_tipo  \\\n",
              "0                              FALHA DO MOTOR EM VOO   \n",
              "1  COLISÃO COM OBSTÁCULO DURANTE A DECOLAGEM E POUSO   \n",
              "2                                          AERÓDROMO   \n",
              "\n",
              "                           ocorrencia_tipo_categoria ocorrencia_tipo_icao  \\\n",
              "0                FALHA OU MAU FUNCIONAMENTO DO MOTOR               SCF-PP   \n",
              "1  COLISÃO COM OBSTÁCULO DURANTE A DECOLAGEM E POUSO                 CTOL   \n",
              "2                                          AERÓDROMO                 ADRM   \n",
              "\n",
              "   ocorrencia_latitude  ocorrencia_longitude ocorrencia_cidade ocorrencia_uf  \\\n",
              "0              -9.9085              -63.0333         ARIQUEMES            RO   \n",
              "1             -11.2644              -61.2589            CACOAL            RO   \n",
              "2             -11.4956              -61.4508            CACOAL            RO   \n",
              "\n",
              "  ocorrencia_pais  ... ocorrencia_horario investigacao_aeronave_liberada  \\\n",
              "0          BRASIL  ...           11:00:00                            NaN   \n",
              "1          BRASIL  ...           19:19:00                            SIM   \n",
              "2          BRASIL  ...           22:40:00                            SIM   \n",
              "\n",
              "  investigacao_status divulgacao_relatorio_numero  \\\n",
              "0          FINALIZADA                         ***   \n",
              "1               ATIVA          IG-084/CENIPA/2016   \n",
              "2          FINALIZADA                         ***   \n",
              "\n",
              "  divulgacao_relatorio_publicado divulgacao_dia_publicacao  \\\n",
              "0                            NÃO                       NaN   \n",
              "1                            NÃO                       NaN   \n",
              "2                            NÃO                       NaN   \n",
              "\n",
              "  total_recomendacoes total_aeronaves_envolvidas  ocorrencia_saida_pista  \\\n",
              "0                   0                          1                     NÃO   \n",
              "1                   0                          1                     NÃO   \n",
              "2                   0                          1                     NÃO   \n",
              "\n",
              "   ocorrencia_dia_extracao  \n",
              "0               2018-08-28  \n",
              "1               2018-08-28  \n",
              "2               2018-08-28  \n",
              "\n",
              "[3 rows x 22 columns]"
            ]
          },
          "execution_count": 4,
          "metadata": {},
          "output_type": "execute_result"
        }
      ],
      "source": [
        "ocorrencias_aviacao.head(3)"
      ]
    },
    {
      "cell_type": "markdown",
      "metadata": {
        "id": "p_2rj-KqMbtA"
      },
      "source": [
        "**Veja quantos valores únicos existem para a coluna `ocorrencia_classificacao`**"
      ]
    },
    {
      "cell_type": "code",
      "execution_count": 5,
      "metadata": {
        "id": "DVtxiIREMnnV"
      },
      "outputs": [
        {
          "data": {
            "text/plain": [
              "array(['ACIDENTE', 'INCIDENTE GRAVE', 'INCIDENTE'], dtype=object)"
            ]
          },
          "execution_count": 5,
          "metadata": {},
          "output_type": "execute_result"
        }
      ],
      "source": [
        "pd.Series(ocorrencias_aviacao['ocorrencia_classificacao']).unique()"
      ]
    },
    {
      "cell_type": "markdown",
      "metadata": {
        "id": "ZoUq8qxPMqPj"
      },
      "source": [
        "**Descubra qual Estado possui o maior número de ocorrências com aeronaves civis.**"
      ]
    },
    {
      "cell_type": "code",
      "execution_count": 6,
      "metadata": {
        "id": "Fdin50sWM29y"
      },
      "outputs": [
        {
          "data": {
            "text/plain": [
              "ocorrencia_uf\n",
              "SP    1207\n",
              "Name: count, dtype: int64"
            ]
          },
          "execution_count": 6,
          "metadata": {},
          "output_type": "execute_result"
        }
      ],
      "source": [
        "ocorrencias_aviacao['ocorrencia_uf'].value_counts()[:1]"
      ]
    },
    {
      "cell_type": "markdown",
      "metadata": {
        "id": "jaE4lKoMNDNG"
      },
      "source": [
        "**Quantos por cento das ocorrências são do tipo `FALHA DO MOTOR EM VOO`?**"
      ]
    },
    {
      "cell_type": "code",
      "execution_count": 7,
      "metadata": {
        "id": "MZNDxepbNqFr"
      },
      "outputs": [
        {
          "data": {
            "text/plain": [
              "ocorrencia_tipo\n",
              "FALHA DO MOTOR EM VOO    0.130952\n",
              "Name: count, dtype: float64"
            ]
          },
          "execution_count": 7,
          "metadata": {},
          "output_type": "execute_result"
        }
      ],
      "source": [
        "df = ocorrencias_aviacao['ocorrencia_tipo'].value_counts()\n",
        "(df / len(ocorrencias_aviacao['ocorrencia_tipo']))[:1]"
      ]
    },
    {
      "cell_type": "markdown",
      "metadata": {
        "id": "BZCNVc1NOVeb"
      },
      "source": [
        "# **Exercício 2**\n",
        "\n",
        "Você irá trabalhar agora com os dados da ação BBAS3, do Banco do Brasil na BOVESPA.\n",
        "\n",
        "Na variável `df_bbas3`, foi importado [este arquivo `csv`](https://raw.githubusercontent.com/carlosfab/dsnp2/master/datasets/BBAS3.SA.csv), onde o *index* do *DataFrame* representa os valores da ação para determinado dia. Responda as perguntas abaixo."
      ]
    },
    {
      "cell_type": "code",
      "execution_count": 8,
      "metadata": {
        "id": "4XZI_FjDPFsR"
      },
      "outputs": [],
      "source": [
        "# importar pandas\n",
        "import pandas as pd\n",
        "\n",
        "# importar o csv com dados da BBAS3\n",
        "df_bbas3 = pd.read_csv(\"https://raw.githubusercontent.com/carlosfab/dsnp2/master/datasets/BBAS3.SA.csv\", index_col=\"Date\")"
      ]
    },
    {
      "cell_type": "markdown",
      "metadata": {
        "id": "j5gGguY3P67Q"
      },
      "source": [
        "**Veja as 5 primeiras entradas da variável `df_bbas3`.**"
      ]
    },
    {
      "cell_type": "code",
      "execution_count": 9,
      "metadata": {
        "id": "MlGjWTeXQEB3"
      },
      "outputs": [
        {
          "data": {
            "text/html": [
              "<div>\n",
              "<style scoped>\n",
              "    .dataframe tbody tr th:only-of-type {\n",
              "        vertical-align: middle;\n",
              "    }\n",
              "\n",
              "    .dataframe tbody tr th {\n",
              "        vertical-align: top;\n",
              "    }\n",
              "\n",
              "    .dataframe thead th {\n",
              "        text-align: right;\n",
              "    }\n",
              "</style>\n",
              "<table border=\"1\" class=\"dataframe\">\n",
              "  <thead>\n",
              "    <tr style=\"text-align: right;\">\n",
              "      <th></th>\n",
              "      <th>Open</th>\n",
              "      <th>High</th>\n",
              "      <th>Low</th>\n",
              "      <th>Close</th>\n",
              "      <th>Adj Close</th>\n",
              "      <th>Volume</th>\n",
              "    </tr>\n",
              "    <tr>\n",
              "      <th>Date</th>\n",
              "      <th></th>\n",
              "      <th></th>\n",
              "      <th></th>\n",
              "      <th></th>\n",
              "      <th></th>\n",
              "      <th></th>\n",
              "    </tr>\n",
              "  </thead>\n",
              "  <tbody>\n",
              "    <tr>\n",
              "      <th>2019-05-06</th>\n",
              "      <td>49.470001</td>\n",
              "      <td>49.669998</td>\n",
              "      <td>49.180000</td>\n",
              "      <td>49.369999</td>\n",
              "      <td>46.886795</td>\n",
              "      <td>6314800.0</td>\n",
              "    </tr>\n",
              "    <tr>\n",
              "      <th>2019-05-07</th>\n",
              "      <td>49.080002</td>\n",
              "      <td>49.680000</td>\n",
              "      <td>48.220001</td>\n",
              "      <td>49.490002</td>\n",
              "      <td>47.000763</td>\n",
              "      <td>10846100.0</td>\n",
              "    </tr>\n",
              "    <tr>\n",
              "      <th>2019-05-08</th>\n",
              "      <td>49.500000</td>\n",
              "      <td>50.840000</td>\n",
              "      <td>49.500000</td>\n",
              "      <td>50.590000</td>\n",
              "      <td>48.045422</td>\n",
              "      <td>14459600.0</td>\n",
              "    </tr>\n",
              "    <tr>\n",
              "      <th>2019-05-09</th>\n",
              "      <td>50.910000</td>\n",
              "      <td>51.259998</td>\n",
              "      <td>50.119999</td>\n",
              "      <td>51.029999</td>\n",
              "      <td>48.463291</td>\n",
              "      <td>15377500.0</td>\n",
              "    </tr>\n",
              "    <tr>\n",
              "      <th>2019-05-10</th>\n",
              "      <td>51.099998</td>\n",
              "      <td>51.189999</td>\n",
              "      <td>49.860001</td>\n",
              "      <td>50.160000</td>\n",
              "      <td>47.637051</td>\n",
              "      <td>8975300.0</td>\n",
              "    </tr>\n",
              "  </tbody>\n",
              "</table>\n",
              "</div>"
            ],
            "text/plain": [
              "                 Open       High        Low      Close  Adj Close      Volume\n",
              "Date                                                                         \n",
              "2019-05-06  49.470001  49.669998  49.180000  49.369999  46.886795   6314800.0\n",
              "2019-05-07  49.080002  49.680000  48.220001  49.490002  47.000763  10846100.0\n",
              "2019-05-08  49.500000  50.840000  49.500000  50.590000  48.045422  14459600.0\n",
              "2019-05-09  50.910000  51.259998  50.119999  51.029999  48.463291  15377500.0\n",
              "2019-05-10  51.099998  51.189999  49.860001  50.160000  47.637051   8975300.0"
            ]
          },
          "execution_count": 9,
          "metadata": {},
          "output_type": "execute_result"
        }
      ],
      "source": [
        "df_bbas3.head(5)"
      ]
    },
    {
      "cell_type": "markdown",
      "metadata": {
        "id": "O3tTLDfTQTGZ"
      },
      "source": [
        "**Quais são os valores da ação para o dia 04 de outubro de 2019?**"
      ]
    },
    {
      "cell_type": "code",
      "execution_count": 10,
      "metadata": {
        "id": "kPSOenAuQj81"
      },
      "outputs": [
        {
          "data": {
            "text/plain": [
              "Open         4.537000e+01\n",
              "High         4.560000e+01\n",
              "Low          4.462000e+01\n",
              "Close        4.560000e+01\n",
              "Adj Close    4.444867e+01\n",
              "Volume       7.228200e+06\n",
              "Name: 2019-10-04, dtype: float64"
            ]
          },
          "execution_count": 10,
          "metadata": {},
          "output_type": "execute_result"
        }
      ],
      "source": [
        "df_bbas3.loc['2019-10-04']"
      ]
    },
    {
      "cell_type": "markdown",
      "metadata": {
        "id": "PRZtV761Qr0-"
      },
      "source": [
        "**Qual a média do Volume financeiro movimentado em todo o período?**"
      ]
    },
    {
      "cell_type": "code",
      "execution_count": 11,
      "metadata": {
        "id": "n-vZleQPEGey"
      },
      "outputs": [
        {
          "data": {
            "text/plain": [
              "13996282.258064516"
            ]
          },
          "execution_count": 11,
          "metadata": {},
          "output_type": "execute_result"
        }
      ],
      "source": [
        "df_bbas3['Volume'].sum() / len(df_bbas3['Volume'])"
      ]
    },
    {
      "cell_type": "markdown",
      "metadata": {
        "id": "_pO0tCV1EdD0"
      },
      "source": [
        "# **Exercício 3**\n",
        "\n",
        "Você irá trabalhar agora com os dados do projeto +BIKE, usado em aulas passadas.\n",
        "\n",
        "Na variável df_bike, foi importado [este arquivo csv](http://dl.dropboxusercontent.com/s/yyfeoxqw61o3iel/df_rides.csv).\n",
        "\n"
      ]
    },
    {
      "cell_type": "code",
      "execution_count": 12,
      "metadata": {
        "id": "YFvJfTuVE0da"
      },
      "outputs": [
        {
          "data": {
            "text/html": [
              "<div>\n",
              "<style scoped>\n",
              "    .dataframe tbody tr th:only-of-type {\n",
              "        vertical-align: middle;\n",
              "    }\n",
              "\n",
              "    .dataframe tbody tr th {\n",
              "        vertical-align: top;\n",
              "    }\n",
              "\n",
              "    .dataframe thead th {\n",
              "        text-align: right;\n",
              "    }\n",
              "</style>\n",
              "<table border=\"1\" class=\"dataframe\">\n",
              "  <thead>\n",
              "    <tr style=\"text-align: right;\">\n",
              "      <th></th>\n",
              "      <th>user_gender</th>\n",
              "      <th>user_birthdate</th>\n",
              "      <th>user_residence</th>\n",
              "      <th>ride_date</th>\n",
              "      <th>time_start</th>\n",
              "      <th>time_end</th>\n",
              "      <th>station_start</th>\n",
              "      <th>station_end</th>\n",
              "      <th>ride_duration</th>\n",
              "      <th>ride_late</th>\n",
              "    </tr>\n",
              "  </thead>\n",
              "  <tbody>\n",
              "    <tr>\n",
              "      <th>0</th>\n",
              "      <td>M</td>\n",
              "      <td>1971-06-08</td>\n",
              "      <td>NaN</td>\n",
              "      <td>2018-01-01</td>\n",
              "      <td>06:05:18</td>\n",
              "      <td>06:21:33</td>\n",
              "      <td>11 - Rodoviária 2</td>\n",
              "      <td>41 - Instituto de Artes</td>\n",
              "      <td>16.250000</td>\n",
              "      <td>0.0</td>\n",
              "    </tr>\n",
              "    <tr>\n",
              "      <th>1</th>\n",
              "      <td>M</td>\n",
              "      <td>1989-02-11</td>\n",
              "      <td>DF</td>\n",
              "      <td>2018-01-01</td>\n",
              "      <td>06:27:01</td>\n",
              "      <td>06:32:17</td>\n",
              "      <td>26 - Ministério da Saude</td>\n",
              "      <td>28 - CNMP - Conselho Nacional do Ministério Pú...</td>\n",
              "      <td>5.266667</td>\n",
              "      <td>0.0</td>\n",
              "    </tr>\n",
              "    <tr>\n",
              "      <th>2</th>\n",
              "      <td>M</td>\n",
              "      <td>1968-07-19</td>\n",
              "      <td>NaN</td>\n",
              "      <td>2018-01-01</td>\n",
              "      <td>06:29:33</td>\n",
              "      <td>06:44:57</td>\n",
              "      <td>11 - Rodoviária 2</td>\n",
              "      <td>43 - Biblioteca Central</td>\n",
              "      <td>15.400000</td>\n",
              "      <td>0.0</td>\n",
              "    </tr>\n",
              "    <tr>\n",
              "      <th>3</th>\n",
              "      <td>M</td>\n",
              "      <td>1991-12-19</td>\n",
              "      <td>NaN</td>\n",
              "      <td>2018-01-01</td>\n",
              "      <td>06:53:53</td>\n",
              "      <td>06:59:45</td>\n",
              "      <td>10 - Ministério dos Transportes</td>\n",
              "      <td>6 - Rodoviária</td>\n",
              "      <td>5.866667</td>\n",
              "      <td>0.0</td>\n",
              "    </tr>\n",
              "    <tr>\n",
              "      <th>4</th>\n",
              "      <td>M</td>\n",
              "      <td>1969-03-03</td>\n",
              "      <td>DF</td>\n",
              "      <td>2018-01-01</td>\n",
              "      <td>06:58:56</td>\n",
              "      <td>17:40:04</td>\n",
              "      <td>15 - Brasil 21</td>\n",
              "      <td>11 - Rodoviária 2</td>\n",
              "      <td>641.133333</td>\n",
              "      <td>1.0</td>\n",
              "    </tr>\n",
              "  </tbody>\n",
              "</table>\n",
              "</div>"
            ],
            "text/plain": [
              "  user_gender user_birthdate user_residence   ride_date time_start  time_end  \\\n",
              "0           M     1971-06-08            NaN  2018-01-01   06:05:18  06:21:33   \n",
              "1           M     1989-02-11             DF  2018-01-01   06:27:01  06:32:17   \n",
              "2           M     1968-07-19            NaN  2018-01-01   06:29:33  06:44:57   \n",
              "3           M     1991-12-19            NaN  2018-01-01   06:53:53  06:59:45   \n",
              "4           M     1969-03-03             DF  2018-01-01   06:58:56  17:40:04   \n",
              "\n",
              "                     station_start  \\\n",
              "0                11 - Rodoviária 2   \n",
              "1         26 - Ministério da Saude   \n",
              "2                11 - Rodoviária 2   \n",
              "3  10 - Ministério dos Transportes   \n",
              "4                   15 - Brasil 21   \n",
              "\n",
              "                                         station_end  ride_duration  ride_late  \n",
              "0                            41 - Instituto de Artes      16.250000        0.0  \n",
              "1  28 - CNMP - Conselho Nacional do Ministério Pú...       5.266667        0.0  \n",
              "2                            43 - Biblioteca Central      15.400000        0.0  \n",
              "3                                     6 - Rodoviária       5.866667        0.0  \n",
              "4                                  11 - Rodoviária 2     641.133333        1.0  "
            ]
          },
          "execution_count": 12,
          "metadata": {},
          "output_type": "execute_result"
        }
      ],
      "source": [
        "# importar pandas\n",
        "import pandas as pd\n",
        "\n",
        "# importar o csv com dados da BBAS3\n",
        "df_bike = pd.read_csv(\"http://dl.dropboxusercontent.com/s/yyfeoxqw61o3iel/df_rides.csv\")\n",
        "\n",
        "# ver as primeiras entradas\n",
        "df_bike.head()"
      ]
    },
    {
      "cell_type": "markdown",
      "metadata": {
        "id": "sj3lwZctE7KP"
      },
      "source": [
        "**Qual a porcentagem de valores ausentes para a coluna `user_gender`?**\n"
      ]
    },
    {
      "cell_type": "code",
      "execution_count": 13,
      "metadata": {
        "id": "g8GJ7kgLFEbr"
      },
      "outputs": [
        {
          "name": "stdout",
          "output_type": "stream",
          "text": [
            "Quantiade de campos ausentes: 396\n",
            "Porcentagem de campos ausentes: 13.78%\n"
          ]
        }
      ],
      "source": [
        "campos_ausentes = df_bike.shape[0] - df_bike['user_gender'].value_counts().sum()\n",
        "\n",
        "print(f'Quantiade de campos ausentes: {campos_ausentes}')\n",
        "print(f'Porcentagem de campos ausentes: {((campos_ausentes * 100) / df_bike.shape[0]) * 100:.2f}%')"
      ]
    },
    {
      "cell_type": "markdown",
      "metadata": {
        "id": "oDVOu-XpFZYI"
      },
      "source": [
        "**Preencha a coluna `user_gender` com o valor mais frequente.**"
      ]
    },
    {
      "cell_type": "code",
      "execution_count": 14,
      "metadata": {
        "id": "7f9WWlD6FZnJ"
      },
      "outputs": [],
      "source": [
        "df_bike['user_gender'] = (\n",
        "    df_bike['user_gender'].fillna(\n",
        "        df_bike['user_gender'].mode()[0]\n",
        "    )\n",
        ")"
      ]
    },
    {
      "cell_type": "markdown",
      "metadata": {
        "id": "ckDXwzIzF7XT"
      },
      "source": [
        "**Plote u boxplot para a coluna `ride_duration`.**"
      ]
    },
    {
      "cell_type": "code",
      "execution_count": 15,
      "metadata": {
        "id": "xIluDO2wGGE6"
      },
      "outputs": [
        {
          "data": {
            "text/plain": [
              "<Axes: >"
            ]
          },
          "execution_count": 15,
          "metadata": {},
          "output_type": "execute_result"
        },
        {
          "data": {
            "image/png": "[encoded data removed]",
            "text/plain": [
              "<Figure size 640x480 with 1 Axes>"
            ]
          },
          "metadata": {},
          "output_type": "display_data"
        }
      ],
      "source": [
        "df_bike['ride_duration'].plot(kind='box')"
      ]
    }
  ],
  "metadata": {
    "colab": {
      "provenance": []
    },
    "kernelspec": {
      "display_name": "Python 3",
      "name": "python3"
    },
    "language_info": {
      "codemirror_mode": {
        "name": "ipython",
        "version": 3
      },
      "file_extension": ".py",
      "mimetype": "text/x-python",
      "name": "python",
      "nbconvert_exporter": "python",
      "pygments_lexer": "ipython3",
      "version": "3.10.12"
    }
  },
  "nbformat": 4,
  "nbformat_minor": 0
}
