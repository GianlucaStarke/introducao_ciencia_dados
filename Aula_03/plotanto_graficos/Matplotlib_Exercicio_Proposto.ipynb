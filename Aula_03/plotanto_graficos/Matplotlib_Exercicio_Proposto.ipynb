{
  "nbformat": 4,
  "nbformat_minor": 0,
  "metadata": {
    "colab": {
      "provenance": []
    },
    "kernelspec": {
      "name": "python3",
      "display_name": "Python 3"
    },
    "language_info": {
      "name": "python"
    }
  },
  "cells": [
    {
      "cell_type": "markdown",
      "source": [
        "# **Exercício 1: Leia o lucro total (total_profit) de todos os meses e mostre-o usando um gráfico de linhas**\n",
        "\n",
        "Dados de lucro total fornecidos para cada mês. O gráfico de linha gerado deve incluir as seguintes propriedades:\n",
        "\n",
        "*   **Label X = Número do mês**\n",
        "*   **Label Y = lucro total**\n",
        "\n"
      ],
      "metadata": {
        "id": "Gz9HmUouZzUL"
      }
    },
    {
      "cell_type": "code",
      "execution_count": null,
      "metadata": {
        "id": "kKf9nlHqZNV1"
      },
      "outputs": [],
      "source": [
        "import pandas as pd\n",
        "import matplotlib.pyplot as plt\n",
        "\n",
        "df = pd.read_csv(\"/content/company_sales_data.csv\")\n"
      ]
    },
    {
      "cell_type": "markdown",
      "source": [
        "# **Exercício 2: Obtenha o lucro total de todos os meses e mostre o gráfico de linhas com as seguintes propriedades de estilo**\n",
        "\n",
        "O gráfico de linha gerado deve incluir as seguintes propriedades de estilo:\n",
        "\n",
        "*   O estilo da linha deve ser pontilhado e a cor da linha deve ser vermelha\n",
        "*   Mostrar legenda no canto inferior direito\n",
        "*   Label X = Número do mês\n",
        "*   Label Y = Número de unidades vendidas\n",
        "*   Adicione um marcador de círculo\n",
        "*   Cor do marcador de linha: preta\n",
        "*   A largura da linha deve ser 3\n",
        "\n",
        "\n"
      ],
      "metadata": {
        "id": "bCHf2U7scT25"
      }
    },
    {
      "cell_type": "code",
      "source": [
        "import pandas as pd\n",
        "import matplotlib.pyplot as plt\n",
        "\n",
        "df = pd.read_csv(\"/content/company_sales_data.csv\")\n"
      ],
      "metadata": {
        "id": "TDF7EdiUd3Z5"
      },
      "execution_count": null,
      "outputs": []
    },
    {
      "cell_type": "markdown",
      "source": [
        "# **Exercício 3: Leia todos os dados de vendas dos produtos e mostre-os usando um gráfico de várias linhas**\n",
        "\n",
        "**Exiba o número de unidades vendidas por mês para cada produto usando gráficos de várias linhas. Isto é, PlotLine separada para cada produto.**\n",
        "\n",
        "\n"
      ],
      "metadata": {
        "id": "3WzTAIRDC0lk"
      }
    },
    {
      "cell_type": "code",
      "source": [
        "import pandas as pd\n",
        "import matplotlib.pyplot as plt\n",
        "\n",
        "df = pd.read_csv(\"/content/company_sales_data.csv\")\n"
      ],
      "metadata": {
        "id": "52tXZaTsDXBX"
      },
      "execution_count": null,
      "outputs": []
    },
    {
      "cell_type": "markdown",
      "source": [
        "# **Exercício 4: Leia os dados de vendas de creme dental de cada mês e mostre-os usando um gráfico de dispersão (scatter plot)**\n",
        "\n",
        "**Além disso, adicione uma grade no gráfico. O estilo da linha de grade deve ser “–“.**\n",
        "\n",
        "\n"
      ],
      "metadata": {
        "id": "ksioIQfKEnSk"
      }
    },
    {
      "cell_type": "code",
      "source": [
        "import pandas as pd\n",
        "import matplotlib.pyplot as plt\n",
        "\n",
        "df = pd.read_csv(\"/content/company_sales_data.csv\")\n"
      ],
      "metadata": {
        "id": "ItmQns1BFfJq"
      },
      "execution_count": null,
      "outputs": []
    },
    {
      "cell_type": "markdown",
      "source": [
        "# **Exercício 5:  Leia os dados de vendas dos cremes faciais e produtos de lavagem facial e mostre-os usando o gráfico de barras**\n",
        "\n",
        "**O gráfico de barras deve exibir o número de unidades vendidas por mês para cada produto. Adicione uma barra separada para cada produto no mesmo gráfico.**\n",
        "\n",
        "\n"
      ],
      "metadata": {
        "id": "UP2c1FguGV0U"
      }
    },
    {
      "cell_type": "code",
      "source": [
        "import pandas as pd\n",
        "import matplotlib.pyplot as plt\n",
        "df = pd.read_csv(\"/content/company_sales_data.csv\")\n"
      ],
      "metadata": {
        "id": "yR0yGwb_Gq5x"
      },
      "execution_count": null,
      "outputs": []
    },
    {
      "cell_type": "markdown",
      "source": [
        "# **Exercício 6: Leia os dados de vendas dos sabonetes de todos os meses e mostre-os usando um gráfico de barras. Salve este gráfico em seu HD**\n",
        "\n",
        "\n",
        "\n"
      ],
      "metadata": {
        "id": "PdEHMoXmHmvq"
      }
    },
    {
      "cell_type": "code",
      "source": [
        "import pandas as pd\n",
        "import matplotlib.pyplot as plt\n",
        "\n",
        "df = pd.read_csv(\"/content/company_sales_data.csv\")\n",
        "monthList  = df ['month_number'].tolist()\n"
      ],
      "metadata": {
        "id": "ISPcbV3-IBwY"
      },
      "execution_count": null,
      "outputs": []
    },
    {
      "cell_type": "markdown",
      "source": [
        "# **Exercício 7: Leia o lucro total de cada mês e mostre-o usando o histograma para ver as faixas de lucro mais comuns**\n",
        "\n",
        "\n",
        "\n"
      ],
      "metadata": {
        "id": "zxijqs_wI61p"
      }
    },
    {
      "cell_type": "code",
      "source": [
        "import pandas as pd\n",
        "import matplotlib.pyplot as plt\n",
        "\n",
        "df = pd.read_csv(\"/content/company_sales_data.csv\")\n"
      ],
      "metadata": {
        "id": "D_9Wn9ndJA_9"
      },
      "execution_count": null,
      "outputs": []
    },
    {
      "cell_type": "markdown",
      "source": [
        "# **Exercício 8: Calcule os dados de vendas totais do ano passado para cada produto e mostre-os usando um gráfico de pizza**\n",
        "\n",
        "\n",
        "\n"
      ],
      "metadata": {
        "id": "4ADtqCJBJ36f"
      }
    },
    {
      "cell_type": "code",
      "source": [
        "import pandas as pd\n",
        "import matplotlib.pyplot as plt\n",
        "\n",
        "df = pd.read_csv(\"/content/company_sales_data.csv\")\n"
      ],
      "metadata": {
        "id": "drql60lCJ_1H"
      },
      "execution_count": null,
      "outputs": []
    },
    {
      "cell_type": "markdown",
      "source": [
        "# **Exercício 9: Leia os dados da Lavagem Facial e do Sabonete de todos os meses e exiba-o usando o SubPlot**\n",
        "\n",
        "\n",
        "\n"
      ],
      "metadata": {
        "id": "Co8eVcV5KXcQ"
      }
    },
    {
      "cell_type": "code",
      "source": [
        "import pandas as pd\n",
        "import matplotlib.pyplot as plt\n",
        "\n",
        "df = pd.read_csv(\"/content/company_sales_data.csv\")\n"
      ],
      "metadata": {
        "id": "CVydxnLFKtlW"
      },
      "execution_count": null,
      "outputs": []
    },
    {
      "cell_type": "markdown",
      "source": [
        "# **Exercício 10: Leia todos os dados de vendas de produtos e mostre-os usando o gráfico de pilha (stack plot)**\n",
        "\n",
        "\n",
        "\n"
      ],
      "metadata": {
        "id": "XoOEP3EJLoYx"
      }
    },
    {
      "cell_type": "code",
      "source": [
        "import pandas as pd\n",
        "import matplotlib.pyplot as plt\n",
        "\n",
        "df = pd.read_csv(\"/content/company_sales_data.csv\")\n",
        "monthList  = df ['month_number'].tolist()\n",
        "\n",
        "faceCremSalesData   = df ['facecream'].tolist()\n",
        "faceWashSalesData   = df ['facewash'].tolist()\n",
        "toothPasteSalesData = df ['toothpaste'].tolist()\n",
        "bathingsoapSalesData   = df ['bathingsoap'].tolist()\n",
        "shampooSalesData   = df ['shampoo'].tolist()\n",
        "moisturizerSalesData = df ['moisturizer'].tolist()\n",
        "\n",
        "plt.plot([],[],color='m', label='Creme Facial', linewidth=5)\n",
        "plt.plot([],[],color='c', label='Lavagem Facial', linewidth=5)\n",
        "plt.plot([],[],color='r', label='Creme Dental', linewidth=5)\n",
        "plt.plot([],[],color='k', label='Sabonete', linewidth=5)\n",
        "plt.plot([],[],color='g', label='Shampoo', linewidth=5)\n",
        "plt.plot([],[],color='y', label='Hidratante', linewidth=5)\n",
        "\n",
        "plt.stackplot(monthList, faceCremSalesData, faceWashSalesData, toothPasteSalesData,\n",
        "              bathingsoapSalesData, shampooSalesData, moisturizerSalesData,\n",
        "              colors=['m','c','r','k','g','y'])\n",
        "\n",
        "plt.xlabel('Número do Mês')\n",
        "plt.ylabel('Número de Unidades Vendidas')\n",
        "plt.title('Todos os dados de venda usando stack plot')\n",
        "plt.legend(loc='upper left')\n",
        "plt.show()"
      ],
      "metadata": {
        "id": "z_2GKV-dLweB"
      },
      "execution_count": null,
      "outputs": []
    }
  ]
}