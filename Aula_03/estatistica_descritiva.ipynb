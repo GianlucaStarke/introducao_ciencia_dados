{
 "cells": [
  {
   "cell_type": "code",
   "execution_count": 38,
   "metadata": {},
   "outputs": [],
   "source": [
    "import math"
   ]
  },
  {
   "cell_type": "markdown",
   "metadata": {},
   "source": [
    "1. O conjunto de dados abaixo representa uma amostra do número de\n",
    "minutos que 25 pessoas se exercitam a cada semana.\n",
    "\n",
    "108 139 120 123 120 132 123 131 131 157 150 124 111 101 135 119 116 117 127 128 139 119 118 114 127"
   ]
  },
  {
   "cell_type": "markdown",
   "metadata": {},
   "source": [
    "1.1. Construa uma distribuição de frequência para o conjunto de dados usando\n",
    "cinco classes. Inclua os limites de classe, pontos médios, frequências,\n",
    "frequências relativas e frequências acumuladas."
   ]
  },
  {
   "cell_type": "code",
   "execution_count": 39,
   "metadata": {},
   "outputs": [
    {
     "name": "stdout",
     "output_type": "stream",
     "text": [
      "12\n"
     ]
    }
   ],
   "source": [
    "maior_numero = 157\n",
    "menor_numero = 101\n",
    "numero_de_classes = 5\n",
    "amplitute_total = maior_numero - menor_numero\n",
    "largura_da_classe = math.ceil(amplitute_total / numero_de_classes)\n",
    "\n",
    "print(largura_da_classe)"
   ]
  },
  {
   "cell_type": "code",
   "execution_count": 40,
   "metadata": {},
   "outputs": [
    {
     "name": "stdout",
     "output_type": "stream",
     "text": [
      "[101, 113, 125, 137, 149]\n"
     ]
    }
   ],
   "source": [
    "limite_inferior = [menor_numero]\n",
    "\n",
    "for x in range(1, numero_de_classes):\n",
    "    limite_inferior.append((limite_inferior[x - 1] + largura_da_classe))\n",
    "\n",
    "print(limite_inferior)"
   ]
  },
  {
   "cell_type": "code",
   "execution_count": 41,
   "metadata": {},
   "outputs": [
    {
     "name": "stdout",
     "output_type": "stream",
     "text": [
      "[112, 124, 136, 148, 160]\n"
     ]
    }
   ],
   "source": [
    "limite_superior = [x + 11 for x in limite_inferior]\n",
    "print(limite_superior)"
   ]
  },
  {
   "cell_type": "code",
   "execution_count": 45,
   "metadata": {},
   "outputs": [
    {
     "name": "stdout",
     "output_type": "stream",
     "text": [
      "[101, 108, 111, 114, 116, 117, 118, 119, 119, 120, 120, 123, 123, 124, 127, 127, 128, 131, 131, 132, 135, 139, 139, 150, 157]\n"
     ]
    }
   ],
   "source": [
    "conjunto = [108, 139, 120, 123, 120, 132, 123, 131, 131, 157, 150, 124, 111, 101, 135, 119, 116, 117, 127, 128, 139, 119, 118, 114, 127]\n",
    "conjunto.sort()\n",
    "frequencia = []\n",
    "\n",
    "for x in limite_inferior:\n",
    "    for y in conjunto:\n",
    "        "
   ]
  }
 ],
 "metadata": {
  "kernelspec": {
   "display_name": "Python 3",
   "language": "python",
   "name": "python3"
  },
  "language_info": {
   "codemirror_mode": {
    "name": "ipython",
    "version": 3
   },
   "file_extension": ".py",
   "mimetype": "text/x-python",
   "name": "python",
   "nbconvert_exporter": "python",
   "pygments_lexer": "ipython3",
   "version": "3.10.12"
  },
  "orig_nbformat": 4
 },
 "nbformat": 4,
 "nbformat_minor": 2
}
