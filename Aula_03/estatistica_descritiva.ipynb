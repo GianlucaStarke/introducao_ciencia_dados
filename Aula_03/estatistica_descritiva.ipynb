{
 "cells": [
  {
   "cell_type": "code",
   "execution_count": 25,
   "metadata": {},
   "outputs": [],
   "source": [
    "from dataclasses import dataclass, field\n",
    "import math"
   ]
  },
  {
   "cell_type": "code",
   "execution_count": 32,
   "metadata": {},
   "outputs": [],
   "source": [
    "@dataclass\n",
    "class Conjunto:\n",
    "    amostras: list[int]\n",
    "    numero_de_classes: int\n",
    "    maior_numero: int = field(init = False)\n",
    "    menor_numero: int = field(init = False)\n",
    "    amplitute_total: int = field(init = False)\n",
    "    largura_da_classe: int = field(init = False)\n",
    "    limite_inferior: list[int] = field(init = False)\n",
    "    limite_superior: list[int] = field(init = False)\n",
    "    frequencia: list[list[int]] = field(init = False)\n",
    "\n",
    "    def __post_init__(self):\n",
    "        self.maior_numero = max(self.amostras)\n",
    "        self.menor_numero = min(self.amostras)\n",
    "        self.amplitute_total = self.maior_numero - self.menor_numero\n",
    "        self.largura_da_classe = math.ceil(self.amplitute_total / self.numero_de_classes)\n",
    "\n",
    "        self.limite_inferior = [self.menor_numero]\n",
    "        for i in range(1, self.numero_de_classes):\n",
    "            self.limite_inferior.append(self.limite_inferior[i - 1] + self.largura_da_classe)\n",
    "\n",
    "        self.limite_superior = [n + (self.largura_da_classe - 1) for n in self.limite_inferior]\n",
    "\n",
    "        self.frequencia = [[] for _ in range(self.numero_de_classes)]\n",
    "        amostras_crescente = self.amostras\n",
    "        amostras_crescente.sort()\n",
    "        for n_conjunto in amostras_crescente:\n",
    "            for i in range(self.numero_de_classes):\n",
    "                if(self.limite_inferior[i] <= n_conjunto and n_conjunto <= self.limite_superior[i]):\n",
    "                    self.frequencia[i].append(n_conjunto)\n",
    "                    break"
   ]
  },
  {
   "cell_type": "code",
   "execution_count": 33,
   "metadata": {},
   "outputs": [
    {
     "name": "stdout",
     "output_type": "stream",
     "text": [
      "12\n",
      "[101, 113, 125, 137, 149]\n",
      "[112, 124, 136, 148, 160]\n",
      "[[101, 108, 111], [114, 116, 117, 118, 119, 119, 120, 120, 123, 123, 124], [127, 127, 128, 131, 131, 132, 135], [139, 139], [150, 157]]\n"
     ]
    }
   ],
   "source": [
    "amostras1 = [108, 139, 120, 123, 120, 132, 123, 131, 131, 157, 150, 124, 111, 101, 135, 119, 116, 117, 127, 128, 139, 119, 118, 114, 127]\n",
    "\n",
    "conjunto1 = Conjunto(amostras1, 5)\n",
    "\n",
    "print (conjunto1.largura_da_classe)\n",
    "print (conjunto1.limite_inferior)\n",
    "print (conjunto1.limite_superior)\n",
    "print (conjunto1.frequencia)"
   ]
  }
 ],
 "metadata": {
  "kernelspec": {
   "display_name": "Python 3",
   "language": "python",
   "name": "python3"
  },
  "language_info": {
   "codemirror_mode": {
    "name": "ipython",
    "version": 3
   },
   "file_extension": ".py",
   "mimetype": "text/x-python",
   "name": "python",
   "nbconvert_exporter": "python",
   "pygments_lexer": "ipython3",
   "version": "3.10.12"
  },
  "orig_nbformat": 4
 },
 "nbformat": 4,
 "nbformat_minor": 2
}
